{
 "cells": [
  {
   "cell_type": "code",
   "execution_count": 60,
   "metadata": {},
   "outputs": [],
   "source": [
    "# import the PySpark module\n",
    "from pyspark.sql import SparkSession\n",
    "spark = SparkSession.builder.getOrCreate()\n",
    "from pyspark.sql.window import Window\n",
    "from pyspark.sql import functions as F"
   ]
  },
  {
   "cell_type": "code",
   "execution_count": 61,
   "metadata": {},
   "outputs": [
    {
     "data": {
      "text/html": [
       "\n",
       "            <div>\n",
       "                <p><b>SparkSession - in-memory</b></p>\n",
       "                \n",
       "        <div>\n",
       "            <p><b>SparkContext</b></p>\n",
       "\n",
       "            <p><a href=\"http://AMALITECH-PC-11075:4040\">Spark UI</a></p>\n",
       "\n",
       "            <dl>\n",
       "              <dt>Version</dt>\n",
       "                <dd><code>v3.5.3</code></dd>\n",
       "              <dt>Master</dt>\n",
       "                <dd><code>local[*]</code></dd>\n",
       "              <dt>AppName</dt>\n",
       "                <dd><code>pyspark-shell</code></dd>\n",
       "            </dl>\n",
       "        </div>\n",
       "        \n",
       "            </div>\n",
       "        "
      ],
      "text/plain": [
       "<pyspark.sql.session.SparkSession at 0x1fb695ed550>"
      ]
     },
     "execution_count": 61,
     "metadata": {},
     "output_type": "execute_result"
    }
   ],
   "source": [
    "# initialize the SparkContext\n",
    "spark"
   ]
  },
  {
   "cell_type": "code",
   "execution_count": 62,
   "metadata": {},
   "outputs": [],
   "source": [
    "# read the songs data from the CSV file\n",
    "songs = spark.read.csv('../data/songs/songs.csv', header=True, inferSchema=True)"
   ]
  },
  {
   "cell_type": "code",
   "execution_count": 63,
   "metadata": {},
   "outputs": [
    {
     "name": "stdout",
     "output_type": "stream",
     "text": [
      "+---+--------------------+--------------------+--------------------+--------------------+----------+-----------+--------+------------+------+---+--------+----+-----------+------------+----------------+--------+-------+-------+--------------+-----------+\n",
      "| id|            track_id|             artists|          album_name|          track_name|popularity|duration_ms|explicit|danceability|energy|key|loudness|mode|speechiness|acousticness|instrumentalness|liveness|valence|  tempo|time_signature|track_genre|\n",
      "+---+--------------------+--------------------+--------------------+--------------------+----------+-----------+--------+------------+------+---+--------+----+-----------+------------+----------------+--------+-------+-------+--------------+-----------+\n",
      "|  0|5SuOikwiRyPMVoIQD...|         Gen Hoshino|              Comedy|              Comedy|        73|     230666|   False|       0.676| 0.461|  1|  -6.746|   0|      0.143|      0.0322|         1.01E-6|   0.358|  0.715| 87.917|           4.0|   acoustic|\n",
      "|  1|4qPNDBW1i3p13qLCt...|        Ben Woodward|    Ghost (Acoustic)|    Ghost - Acoustic|        55|     149610|   False|        0.42| 0.166|  1| -17.235|   1|     0.0763|       0.924|         5.56E-6|   0.101|  0.267| 77.489|           4.0|   acoustic|\n",
      "|  2|1iJBSr7s7jYXzM8EG...|Ingrid Michaelson...|      To Begin Again|      To Begin Again|        57|     210826|   False|       0.438| 0.359|  0|  -9.734|   1|     0.0557|        0.21|             0.0|   0.117|   0.12| 76.332|           4.0|   acoustic|\n",
      "|  3|6lfxq3CG4xtTiEg7o...|        Kina Grannis|Crazy Rich Asians...|Can't Help Fallin...|        71|     201933|   False|       0.266|0.0596|  0| -18.515|   1|     0.0363|       0.905|         7.07E-5|   0.132|  0.143| 181.74|           3.0|   acoustic|\n",
      "|  4|5vjLSffimiIP26QG5...|    Chord Overstreet|             Hold On|             Hold On|        82|     198853|   False|       0.618| 0.443|  2|  -9.681|   1|     0.0526|       0.469|             0.0|  0.0829|  0.167|119.949|           4.0|   acoustic|\n",
      "|  5|01MVOl9KtVTNfFiBU...|        Tyrone Wells|Days I Will Remember|Days I Will Remember|        58|     214240|   False|       0.688| 0.481|  6|  -8.807|   1|      0.105|       0.289|             0.0|   0.189|  0.666| 98.017|           4.0|   acoustic|\n",
      "|  6|6Vc5wAMmXdKIAM7WU...|A Great Big World...|Is There Anybody ...|       Say Something|        74|     229400|   False|       0.407| 0.147|  2|  -8.822|   1|     0.0355|       0.857|         2.89E-6|  0.0913| 0.0765|141.284|           3.0|   acoustic|\n",
      "|  7|1EzrEOXmMH3G43AXT...|          Jason Mraz|We Sing. We Dance...|           I'm Yours|        80|     242946|   False|       0.703| 0.444| 11|  -9.331|   1|     0.0417|       0.559|             0.0|  0.0973|  0.712| 150.96|           4.0|   acoustic|\n",
      "|  8|0IktbUcnAGrvD03AW...|Jason Mraz;Colbie...|We Sing. We Dance...|               Lucky|        74|     189613|   False|       0.625| 0.414|  0|    -8.7|   1|     0.0369|       0.294|             0.0|   0.151|  0.669|130.088|           4.0|   acoustic|\n",
      "|  9|7k9GuJYLp2AzqokyE...|      Ross Copperman|              Hunger|              Hunger|        56|     205594|   False|       0.442| 0.632|  1|   -6.77|   1|     0.0295|       0.426|         0.00419|  0.0735|  0.196| 78.899|           4.0|   acoustic|\n",
      "+---+--------------------+--------------------+--------------------+--------------------+----------+-----------+--------+------------+------+---+--------+----+-----------+------------+----------------+--------+-------+-------+--------------+-----------+\n",
      "only showing top 10 rows\n",
      "\n"
     ]
    }
   ],
   "source": [
    "songs.show(10)"
   ]
  },
  {
   "cell_type": "code",
   "execution_count": 64,
   "metadata": {},
   "outputs": [],
   "source": [
    "# read the songs data from the CSV file\n",
    "users = spark.read.csv('../data/users/users.csv', header=True, inferSchema=True)"
   ]
  },
  {
   "cell_type": "code",
   "execution_count": 65,
   "metadata": {},
   "outputs": [
    {
     "name": "stdout",
     "output_type": "stream",
     "text": [
      "+-------+-----------------+--------+-------------+----------+\n",
      "|user_id|        user_name|user_age| user_country|created_at|\n",
      "+-------+-----------------+--------+-------------+----------+\n",
      "|      1|     Norma Fisher|      65|United States|2024-02-07|\n",
      "|      2|   Jorge Sullivan|      28|United States|2024-11-28|\n",
      "|      3|  Elizabeth Woods|      19|United States|2024-11-16|\n",
      "|      4|     Susan Wagner|      45|United States|2024-06-14|\n",
      "|      5| Peter Montgomery|      61|United States|2024-07-24|\n",
      "|      6| Theodore Mcgrath|      58|United States|2024-12-12|\n",
      "|      7|Stephanie Collins|      68|United States|2024-04-16|\n",
      "|      8| Stephanie Sutton|      53|United States|2024-05-04|\n",
      "|      9|   Brian Hamilton|      34|United States|2024-09-15|\n",
      "|     10|       Susan Levy|      18|United States|2024-09-08|\n",
      "+-------+-----------------+--------+-------------+----------+\n",
      "only showing top 10 rows\n",
      "\n"
     ]
    }
   ],
   "source": [
    "users.show(10)"
   ]
  },
  {
   "cell_type": "code",
   "execution_count": 66,
   "metadata": {},
   "outputs": [],
   "source": [
    "# read the streams data from the CSV file\n",
    "streams1 = spark.read.csv('../data/streams/streams1.csv', header=True, inferSchema=True)\n",
    "streams2 = spark.read.csv('../data/streams/streams2.csv', header=True, inferSchema=True)\n",
    "streams3 = spark.read.csv('../data/streams/streams3.csv', header=True, inferSchema=True)"
   ]
  },
  {
   "cell_type": "code",
   "execution_count": 67,
   "metadata": {},
   "outputs": [
    {
     "name": "stdout",
     "output_type": "stream",
     "text": [
      "+-------+--------------------+-------------------+\n",
      "|user_id|            track_id|        listen_time|\n",
      "+-------+--------------------+-------------------+\n",
      "|  26213|4dBa8T7oDV9WvGr7k...|2024-06-25 17:43:13|\n",
      "|   6937|4osgfFTICMkcGbbig...|2024-06-25 07:26:00|\n",
      "|  21407|2LoQWx41KeqOrSFra...|2024-06-25 13:25:26|\n",
      "|  47146|7cfG5lFeJWEgpSnub...|2024-06-25 18:17:50|\n",
      "|  38594|6tilCYbheGMHo3Hw4...|2024-06-25 17:33:21|\n",
      "|  14209|2QuOheWJqShIBIYC1...|2024-06-25 02:52:20|\n",
      "|  26986|6qBSGvyUzqNQv8Xtn...|2024-06-25 22:32:51|\n",
      "|   8173|1wXSL0SAzd7mX0LM8...|2024-06-25 11:59:10|\n",
      "|  12950|0L7Nv6ToXLRAWId4e...|2024-06-25 17:54:30|\n",
      "|   2898|7tnE9vy6FCRtbZql5...|2024-06-25 18:30:31|\n",
      "+-------+--------------------+-------------------+\n",
      "only showing top 10 rows\n",
      "\n"
     ]
    }
   ],
   "source": [
    "# concat the streams data\n",
    "streams = streams1.union(streams2).union(streams3)\n",
    "streams.show(10)\n"
   ]
  },
  {
   "cell_type": "code",
   "execution_count": 68,
   "metadata": {},
   "outputs": [
    {
     "name": "stdout",
     "output_type": "stream",
     "text": [
      "+-------+------------------+--------------------+\n",
      "|summary|           user_id|            track_id|\n",
      "+-------+------------------+--------------------+\n",
      "|  count|             34038|               34038|\n",
      "|   mean|24934.808420001176|                NULL|\n",
      "| stddev|14444.125256146368|                NULL|\n",
      "|    min|                 3|0000vdREvCVMxbQTk...|\n",
      "|    max|             49999|7zxpdh3EqMq2JCkOI...|\n",
      "+-------+------------------+--------------------+\n",
      "\n"
     ]
    }
   ],
   "source": [
    "streams.describe().show()"
   ]
  },
  {
   "cell_type": "code",
   "execution_count": 69,
   "metadata": {},
   "outputs": [
    {
     "name": "stdout",
     "output_type": "stream",
     "text": [
      "+-------+-----------------+--------------------+------------------+----------------------------+--------------+------------------+--------------------+------------------+-----------------+--------------------+-----------------+------------------+----------------+------------------+-------------------+------------------+-----------------+-------------------+-----------------+------------------+------------------+\n",
      "|summary|               id|            track_id|           artists|                  album_name|    track_name|        popularity|         duration_ms|          explicit|     danceability|              energy|              key|          loudness|            mode|       speechiness|       acousticness|  instrumentalness|         liveness|            valence|            tempo|    time_signature|       track_genre|\n",
      "+-------+-----------------+--------------------+------------------+----------------------------+--------------+------------------+--------------------+------------------+-----------------+--------------------+-----------------+------------------+----------------+------------------+-------------------+------------------+-----------------+-------------------+-----------------+------------------+------------------+\n",
      "|  count|            89741|               89741|             89740|                       89740|         89740|             89741|               89741|             89741|            89741|               89741|            89741|             89741|           89741|             89741|              89741|             89741|            89741|              89741|            89741|             89741|             89741|\n",
      "|   mean|53479.14414815971|                NULL|          4425.775|                    Infinity|      Infinity|33.218531370995635|   228968.4900229639|164008.09174311926|39.77311613439367|   4.044996745550605| 7.12314423596407|2.0542242905856964|2.89385829386527|1.3271324102655435|0.32724658385956845|1.9883775972234554|3.377600199566883|0.46930670386676754|121.9193701217944|3.9940354443453945|23.083248458333333|\n",
      "| stddev|33409.98150200114|                NULL|14461.681191922153|                         NaN|           NaN|20.580922483320293|  113062.49229751206| 158943.2551850072| 3137.40901002627|   729.6975223646102|552.2772938129276|1942.6967524844183| 681.31219251588| 372.9886660028764| 0.3571049294161017| 543.4487205040567|692.9101724595571| 0.2692998643253719| 30.4185761185554| 3.347598907203215| 41.50450513962588|\n",
      "|    min|                0|0000vdREvCVMxbQTk...|            !nvite|        ! ! ! ! ! Whisper...| Live in Odeon|             Act 1|                Aida|              Aida|             Aida|                Aida|        Amneris)\"|              Aida|         Amneris|           Amneris|         Amonasro)\"|           -15.988|          -11.763|            -16.853|           -16.92|               0.0|           -12.753|\n",
      "|    max|           113999|7zz7iNGIWhmfFE7zl...|         龍藏Ryuzo|당신이 잠든 사이에 Pt. 4 ...| 행복하길 바래|           Zendani|The Song of the G...|              True|            False|Hearts And Soul -...|            False|             False|           False|             False|              False|          162800.0|            False|              False|          243.372|           182.016|       world-music|\n",
      "+-------+-----------------+--------------------+------------------+----------------------------+--------------+------------------+--------------------+------------------+-----------------+--------------------+-----------------+------------------+----------------+------------------+-------------------+------------------+-----------------+-------------------+-----------------+------------------+------------------+\n",
      "\n"
     ]
    }
   ],
   "source": [
    "songs.describe().show()"
   ]
  },
  {
   "cell_type": "code",
   "execution_count": 70,
   "metadata": {},
   "outputs": [
    {
     "name": "stdout",
     "output_type": "stream",
     "text": [
      "+-------+-----------------+--------------+------------------+-------------+\n",
      "|summary|          user_id|     user_name|          user_age| user_country|\n",
      "+-------+-----------------+--------------+------------------+-------------+\n",
      "|  count|            50000|         50000|             50000|        50000|\n",
      "|   mean|          25000.5|          NULL|          43.56998|         NULL|\n",
      "| stddev|14433.90106658626|          NULL|14.996324902949087|         NULL|\n",
      "|    min|                1|Aaron Alvarado|                18|    Australia|\n",
      "|    max|            50000|   Zoe Walters|                69|United States|\n",
      "+-------+-----------------+--------------+------------------+-------------+\n",
      "\n"
     ]
    }
   ],
   "source": [
    "users.describe().show()"
   ]
  },
  {
   "cell_type": "code",
   "execution_count": 71,
   "metadata": {},
   "outputs": [],
   "source": [
    "# merging the users data with the songs data\n",
    "song_users = songs.join(users, songs.id == users.user_id, 'inner')"
   ]
  },
  {
   "cell_type": "code",
   "execution_count": 72,
   "metadata": {},
   "outputs": [
    {
     "name": "stdout",
     "output_type": "stream",
     "text": [
      "+-------+------------------+--------------------+--------------------+-----------------+--------------+--------------------+--------------------+--------------------+-----------------+--------------------+------------------+------------------+------------------+-------------------+------------------+-------------------+-------------------+-------------------+------------------+------------------+------------------+------------------+--------------+------------------+-------------+\n",
      "|summary|                id|            track_id|             artists|       album_name|    track_name|          popularity|         duration_ms|            explicit|     danceability|              energy|               key|          loudness|              mode|        speechiness|      acousticness|   instrumentalness|           liveness|            valence|             tempo|    time_signature|       track_genre|           user_id|     user_name|          user_age| user_country|\n",
      "+-------+------------------+--------------------+--------------------+-----------------+--------------+--------------------+--------------------+--------------------+-----------------+--------------------+------------------+------------------+------------------+-------------------+------------------+-------------------+-------------------+-------------------+------------------+------------------+------------------+------------------+--------------+------------------+-------------+\n",
      "|  count|             44190|               44190|               44190|            44190|         44190|               44190|               44190|               44190|            44190|               44190|             44190|             44190|             44190|              44190|             44190|              44190|              44190|              44190|             44190|             44190|             44190|             44190|         44190|             44190|        44190|\n",
      "|   mean|24223.596628196425|                NULL|             6469.84|         Infinity|      Infinity|  33.253958545701664|  229882.12746451775|  158945.13636363635|39.83925756731647|  0.6596944980962909| 5.331089644037112|2.5374316693822205|0.6155581479553734|0.09233360941389483|0.2869909360067878|0.19301290728038092|0.21300035643131868| 0.4542099570038452|123.48546335143666|3.9905164166100935|29.575377777777774|24223.596628196425|          NULL|43.612649920796564|         NULL|\n",
      "| stddev|14413.825503754844|                NULL|  18103.229895242453|              NaN|           NaN|   20.73042985498074|  120950.53577527586|   207691.1581670526|3554.300205736907|  0.2528099877580408|3.5640274760988846|2240.8539756907676|0.7755100147153777|  0.468194651448095|0.3280971735365843| 0.3327109522972512|0.19390035687529764|0.25865398627870956|29.693442729356413| 3.052719329298092| 46.02846445224208|14413.825503754844|          NULL|14.995761339386068|         NULL|\n",
      "|    min|                 1|0000vdREvCVMxbQTk...|\"\"\"Puppy Dog Pals...|!!Puro Macanazo!!| Live in Odeon| Adagio \"\"Nimrod\"...| D.839 (Arr. Joha...| Matthias Heilbro...|      John Gazoo\"|            0.000179|                 0|            -0.001|           -10.772|            -10.095|                 0|                0.0|             -7.923|                0.0|               0.0|               0.0|             0.576|                 1|Aaron Alvarado|                18|    Australia|\n",
      "|    max|             50000|7zybSU9tFO9HNlwmG...|           龍藏Ryuzo|   齊唱金曲管弦夜|          黒点|                  98|The Song of the G...|                True|            False|Hearts And Soul -...|                 9|                 7|             False|                  1|             9e-05|                2.0|           1.07e-05|                  1|           243.372|           179.916|       heavy-metal|             50000|   Zoe Walters|                69|United States|\n",
      "+-------+------------------+--------------------+--------------------+-----------------+--------------+--------------------+--------------------+--------------------+-----------------+--------------------+------------------+------------------+------------------+-------------------+------------------+-------------------+-------------------+-------------------+------------------+------------------+------------------+------------------+--------------+------------------+-------------+\n",
      "\n"
     ]
    }
   ],
   "source": [
    "song_users.describe().show()"
   ]
  },
  {
   "cell_type": "code",
   "execution_count": 73,
   "metadata": {},
   "outputs": [
    {
     "data": {
      "text/plain": [
       "['id',\n",
       " 'track_id',\n",
       " 'artists',\n",
       " 'album_name',\n",
       " 'track_name',\n",
       " 'popularity',\n",
       " 'duration_ms',\n",
       " 'explicit',\n",
       " 'danceability',\n",
       " 'energy',\n",
       " 'key',\n",
       " 'loudness',\n",
       " 'mode',\n",
       " 'speechiness',\n",
       " 'acousticness',\n",
       " 'instrumentalness',\n",
       " 'liveness',\n",
       " 'valence',\n",
       " 'tempo',\n",
       " 'time_signature',\n",
       " 'track_genre',\n",
       " 'user_id',\n",
       " 'user_name',\n",
       " 'user_age',\n",
       " 'user_country',\n",
       " 'created_at']"
      ]
     },
     "execution_count": 73,
     "metadata": {},
     "output_type": "execute_result"
    }
   ],
   "source": [
    "song_users.columns"
   ]
  },
  {
   "cell_type": "code",
   "execution_count": 74,
   "metadata": {},
   "outputs": [
    {
     "name": "stdout",
     "output_type": "stream",
     "text": [
      "+-----------+----------+------------+\n",
      "|track_genre|      date|listen_count|\n",
      "+-----------+----------+------------+\n",
      "|   acoustic|2024-05-20|           5|\n",
      "|   acoustic|2024-08-13|           2|\n",
      "|   afrobeat|2024-11-23|           2|\n",
      "|   alt-rock|2024-08-26|           2|\n",
      "|   alt-rock|2024-09-25|           3|\n",
      "|   alt-rock|2024-06-03|           4|\n",
      "|alternative|2024-10-31|           8|\n",
      "|alternative|2024-09-04|           1|\n",
      "|alternative|2024-02-11|           2|\n",
      "|alternative|2024-01-18|           1|\n",
      "|    ambient|2024-11-06|           7|\n",
      "|    ambient|2024-08-08|           3|\n",
      "|      anime|2024-11-02|           4|\n",
      "|      anime|2024-04-09|           6|\n",
      "|black-metal|2024-04-10|           3|\n",
      "|  bluegrass|2024-03-14|           2|\n",
      "|  bluegrass|2024-04-22|           1|\n",
      "|    british|2024-10-11|           3|\n",
      "|   cantopop|2024-02-26|           4|\n",
      "|   cantopop|2024-04-11|           1|\n",
      "+-----------+----------+------------+\n",
      "only showing top 20 rows\n",
      "\n"
     ]
    }
   ],
   "source": [
    "listen_count = song_users.groupBy(\"track_genre\", F.to_date(\"created_at\").alias(\"date\")) \\\n",
    "                 .agg(F.count(\"track_id\").alias(\"listen_count\"))\n",
    "listen_count.show()"
   ]
  },
  {
   "cell_type": "code",
   "execution_count": 75,
   "metadata": {},
   "outputs": [
    {
     "name": "stdout",
     "output_type": "stream",
     "text": [
      "+-----------+----------+----------------+\n",
      "|track_genre|      date|unique_listeners|\n",
      "+-----------+----------+----------------+\n",
      "|  bluegrass|2024-04-22|               1|\n",
      "|      anime|2024-11-02|               4|\n",
      "|     comedy|2024-03-19|               4|\n",
      "|     comedy|2024-02-13|               1|\n",
      "|   cantopop|2024-02-26|               4|\n",
      "|       club|2024-02-03|               5|\n",
      "|   alt-rock|2024-09-25|               3|\n",
      "|   afrobeat|2024-11-23|               2|\n",
      "|     comedy|2024-02-26|               5|\n",
      "|      anime|2024-04-09|               6|\n",
      "|   alt-rock|2024-06-03|               4|\n",
      "|alternative|2024-10-31|               8|\n",
      "|    ambient|2024-11-06|               7|\n",
      "|   cantopop|2024-04-11|               1|\n",
      "|   acoustic|2024-05-20|               5|\n",
      "|      anime|2024-08-24|               2|\n",
      "|      disco|2024-09-23|               4|\n",
      "|   children|2024-02-03|               2|\n",
      "|   cantopop|2024-01-06|               4|\n",
      "|alternative|2024-01-18|               1|\n",
      "+-----------+----------+----------------+\n",
      "only showing top 20 rows\n",
      "\n"
     ]
    }
   ],
   "source": [
    "unique_listeners = song_users.groupBy(\"track_genre\", F.to_date(\"created_at\").alias(\"date\")) \\\n",
    "                     .agg(F.countDistinct(\"user_id\").alias(\"unique_listeners\"))\n",
    "unique_listeners.show()"
   ]
  },
  {
   "cell_type": "code",
   "execution_count": 76,
   "metadata": {},
   "outputs": [
    {
     "name": "stdout",
     "output_type": "stream",
     "text": [
      "+-----------+----------+--------------------+\n",
      "|track_genre|      date|total_listening_time|\n",
      "+-----------+----------+--------------------+\n",
      "|   acoustic|2024-05-20|           1096693.0|\n",
      "|   acoustic|2024-08-13|            288280.0|\n",
      "|   afrobeat|2024-11-23|            782559.0|\n",
      "|   alt-rock|2024-08-26|            437950.0|\n",
      "|   alt-rock|2024-09-25|            653786.0|\n",
      "|   alt-rock|2024-06-03|            948265.0|\n",
      "|alternative|2024-10-31|           1983925.0|\n",
      "|alternative|2024-09-04|            170771.0|\n",
      "|alternative|2024-02-11|            287121.0|\n",
      "|alternative|2024-01-18|            234760.0|\n",
      "|    ambient|2024-11-06|           1938263.0|\n",
      "|    ambient|2024-08-08|            744525.0|\n",
      "|      anime|2024-11-02|            600424.0|\n",
      "|      anime|2024-04-09|           1315769.0|\n",
      "|black-metal|2024-04-10|            565733.0|\n",
      "|  bluegrass|2024-03-14|            419593.0|\n",
      "|  bluegrass|2024-04-22|             73000.0|\n",
      "|    british|2024-10-11|            611801.0|\n",
      "|   cantopop|2024-02-26|            917196.0|\n",
      "|   cantopop|2024-04-11|            302733.0|\n",
      "+-----------+----------+--------------------+\n",
      "only showing top 20 rows\n",
      "\n"
     ]
    }
   ],
   "source": [
    "total_listening_time = song_users.groupBy(\"track_genre\", F.to_date(\"created_at\").alias(\"date\")) \\\n",
    "                         .agg(F.sum(\"duration_ms\").alias(\"total_listening_time\"))\n",
    "total_listening_time.show()"
   ]
  },
  {
   "cell_type": "code",
   "execution_count": 77,
   "metadata": {},
   "outputs": [
    {
     "name": "stdout",
     "output_type": "stream",
     "text": [
      "+-----------+----------+--------------------+----------------+---------------------------+\n",
      "|track_genre|      date|total_listening_time|unique_listeners|avg_listening_time_per_user|\n",
      "+-----------+----------+--------------------+----------------+---------------------------+\n",
      "|  bluegrass|2024-04-22|             73000.0|               1|                    73000.0|\n",
      "|      anime|2024-11-02|            600424.0|               4|                   150106.0|\n",
      "|     comedy|2024-03-19|            959017.0|               4|                  239754.25|\n",
      "|     comedy|2024-02-13|            415320.0|               1|                   415320.0|\n",
      "|   cantopop|2024-02-26|            917196.0|               4|                   229299.0|\n",
      "|       club|2024-02-03|            700923.0|               5|                   140184.6|\n",
      "|   alt-rock|2024-09-25|            653786.0|               3|         217928.66666666666|\n",
      "|   afrobeat|2024-11-23|            782559.0|               2|                   391279.5|\n",
      "|     comedy|2024-02-26|            966709.0|               5|                   193341.8|\n",
      "|      anime|2024-04-09|           1315769.0|               6|         219294.83333333334|\n",
      "|   alt-rock|2024-06-03|            948265.0|               4|                  237066.25|\n",
      "|alternative|2024-10-31|           1983925.0|               8|                 247990.625|\n",
      "|    ambient|2024-11-06|           1938263.0|               7|         276894.71428571426|\n",
      "|   cantopop|2024-04-11|            302733.0|               1|                   302733.0|\n",
      "|   acoustic|2024-05-20|           1096693.0|               5|                   219338.6|\n",
      "|      anime|2024-08-24|            411986.0|               2|                   205993.0|\n",
      "|      disco|2024-09-23|            782084.0|               4|                   195521.0|\n",
      "|   children|2024-02-03|            176638.0|               2|                    88319.0|\n",
      "|   cantopop|2024-01-06|           1000242.0|               4|                   250060.5|\n",
      "|alternative|2024-01-18|            234760.0|               1|                   234760.0|\n",
      "+-----------+----------+--------------------+----------------+---------------------------+\n",
      "only showing top 20 rows\n",
      "\n"
     ]
    }
   ],
   "source": [
    "avg_listening_time_per_user = total_listening_time.join(unique_listeners, [\"track_genre\", \"date\"]) \\\n",
    "                                                  .withColumn(\"avg_listening_time_per_user\", \n",
    "                                                              F.col(\"total_listening_time\") / F.col(\"unique_listeners\"))\n",
    "avg_listening_time_per_user.show()"
   ]
  },
  {
   "cell_type": "code",
   "execution_count": 78,
   "metadata": {},
   "outputs": [
    {
     "name": "stdout",
     "output_type": "stream",
     "text": [
      "+-----------+----------+--------------------+------------+----+\n",
      "|track_genre|      date|          track_name|listen_count|rank|\n",
      "+-----------+----------+--------------------+------------+----+\n",
      "|      0.576|2024-10-30|          Snuff Crew|           1|   1|\n",
      "|    105.188|2024-01-21|\"12 Variations in...|           1|   1|\n",
      "|    114.211|2024-05-18|\"12 Variations in...|           1|   1|\n",
      "|     117.11|2024-10-03|\"12 Variations in...|           1|   1|\n",
      "|    125.262|2024-06-24|\"12 Variations in...|           1|   1|\n",
      "|    148.759|2024-10-19|\"12 Variations in...|           1|   1|\n",
      "|    151.539|2024-11-10|\"12 Variations in...|           1|   1|\n",
      "|          3|2024-02-24|\"Christmas Orator...|           1|   1|\n",
      "|          3|2024-03-22|\"6 Variations on ...|           1|   1|\n",
      "|          3|2024-06-05|\"Christmas Orator...|           1|   1|\n",
      "|          3|2024-11-16|\"Christmas Orator...|           1|   1|\n",
      "|          3|2024-11-22|\"7 Variations on ...|           1|   1|\n",
      "|          3|2024-12-30|\"Sonata No. 14 \"\"...|           1|   1|\n",
      "|          4|2024-01-03|\"Don Giovanni, K....|           1|   1|\n",
      "|          4|2024-02-03|\"Variations on an...|           1|   1|\n",
      "|          4|2024-02-15|\"Amaranth (aus \"\"...|           1|   1|\n",
      "|          4|2024-02-26|\"7 Variations on ...|           1|   1|\n",
      "|          4|2024-03-02|\"8 Variations on ...|           1|   1|\n",
      "|          4|2024-04-07|\"Don Giovanni, os...|           1|   1|\n",
      "|          4|2024-04-09|\"Contredanse in C...|           1|   1|\n",
      "+-----------+----------+--------------------+------------+----+\n",
      "only showing top 20 rows\n",
      "\n"
     ]
    }
   ],
   "source": [
    "from pyspark.sql import functions as F\n",
    "from pyspark.sql.window import Window\n",
    "\n",
    "# Ensure `track_genre` is correctly cast as a string\n",
    "song_users = song_users.withColumn(\"track_genre\", F.col(\"track_genre\").cast(\"string\"))\n",
    "\n",
    "# Compute listen count per song per genre per day\n",
    "song_listen_count = song_users.groupBy(\n",
    "    \"track_genre\", \n",
    "    F.to_date(\"created_at\").alias(\"date\"), \n",
    "    \"track_name\"\n",
    ").agg(F.count(\"track_id\").alias(\"listen_count\"))\n",
    "\n",
    "# Define a ranking window for top songs in each genre per day\n",
    "song_rank_window = Window.partitionBy(\"track_genre\", \"date\").orderBy(F.desc(\"listen_count\"))\n",
    "\n",
    "# Rank songs and filter for the top 3\n",
    "top_songs_per_genre = song_listen_count.withColumn(\"rank\", F.rank().over(song_rank_window)) \\\n",
    "                                       .filter(F.col(\"rank\") <= 3)\n",
    "\n",
    "top_songs_per_genre.show()"
   ]
  },
  {
   "cell_type": "code",
   "execution_count": 79,
   "metadata": {},
   "outputs": [
    {
     "name": "stdout",
     "output_type": "stream",
     "text": [
      "+-------+-----------+------------------+------------------+\n",
      "|summary|track_genre|      listen_count|              rank|\n",
      "+-------+-----------+------------------+------------------+\n",
      "|  count|       2772|              2772|              2772|\n",
      "|   mean|       NULL| 5.091991341991342| 2.884199134199134|\n",
      "| stddev|       NULL|1.0386855307680234|1.4243624343221657|\n",
      "|    min|   acoustic|                 4|                 1|\n",
      "|    max|  hardstyle|                10|                 5|\n",
      "+-------+-----------+------------------+------------------+\n",
      "\n"
     ]
    }
   ],
   "source": [
    "from pyspark.sql import functions as F\n",
    "from pyspark.sql.window import Window\n",
    "\n",
    "# Ensure track_genre is correctly cast as a string\n",
    "song_users = song_users.withColumn(\"track_genre\", F.col(\"track_genre\").cast(\"string\"))\n",
    "\n",
    "# Step 1: Compute listen count per genre per day\n",
    "genre_listen_count = song_users.groupBy(\n",
    "    F.to_date(\"created_at\").alias(\"date\"),\n",
    "    \"track_genre\"\n",
    ").agg(F.count(\"track_id\").alias(\"listen_count\"))\n",
    "\n",
    "# Step 2: Define a ranking window for top genres per day\n",
    "genre_rank_window = Window.partitionBy(\"date\").orderBy(F.desc(\"listen_count\"))\n",
    "\n",
    "# Step 3: Apply ranking and filter for the top 5 genres per day\n",
    "top_genres_per_day = genre_listen_count.withColumn(\"rank\", F.rank().over(genre_rank_window)) \\\n",
    "                                       .filter(F.col(\"rank\") <= 5)\n",
    "\n",
    "top_genres_per_day.describe().show()\n"
   ]
  },
  {
   "cell_type": "code",
   "execution_count": 80,
   "metadata": {},
   "outputs": [
    {
     "name": "stdout",
     "output_type": "stream",
     "text": [
      "+-----------+----------+------------+----------------+--------------------+--------------------+----------------+---------------------------+--------------------+------------+----+------------+----+\n",
      "|track_genre|      date|listen_count|unique_listeners|total_listening_time|total_listening_time|unique_listeners|avg_listening_time_per_user|          track_name|listen_count|rank|listen_count|rank|\n",
      "+-----------+----------+------------+----------------+--------------------+--------------------+----------------+---------------------------+--------------------+------------+----+------------+----+\n",
      "|      0.576|2024-10-30|           1|               1|                NULL|                NULL|               1|                       NULL|          Snuff Crew|           1|   1|        NULL|NULL|\n",
      "|    105.188|2024-01-21|           1|               1|                NULL|                NULL|               1|                       NULL|\"12 Variations in...|           1|   1|        NULL|NULL|\n",
      "|    114.211|2024-05-18|           1|               1|                NULL|                NULL|               1|                       NULL|\"12 Variations in...|           1|   1|        NULL|NULL|\n",
      "|     117.11|2024-10-03|           1|               1|                NULL|                NULL|               1|                       NULL|\"12 Variations in...|           1|   1|        NULL|NULL|\n",
      "|    125.262|2024-06-24|           1|               1|                NULL|                NULL|               1|                       NULL|\"12 Variations in...|           1|   1|        NULL|NULL|\n",
      "|    148.759|2024-10-19|           1|               1|                NULL|                NULL|               1|                       NULL|\"12 Variations in...|           1|   1|        NULL|NULL|\n",
      "|    151.539|2024-11-10|           1|               1|                NULL|                NULL|               1|                       NULL|\"12 Variations in...|           1|   1|        NULL|NULL|\n",
      "|          3|2024-02-24|           1|               1|                 0.0|                 0.0|               1|                        0.0|\"Christmas Orator...|           1|   1|        NULL|NULL|\n",
      "|          3|2024-03-22|           1|               1|                24.0|                24.0|               1|                       24.0|\"6 Variations on ...|           1|   1|        NULL|NULL|\n",
      "|          3|2024-06-05|           1|               1|                 0.0|                 0.0|               1|                        0.0|\"Christmas Orator...|           1|   1|        NULL|NULL|\n",
      "|          3|2024-11-16|           1|               1|                 0.0|                 0.0|               1|                        0.0|\"Christmas Orator...|           1|   1|        NULL|NULL|\n",
      "|          3|2024-11-22|           1|               1|                20.0|                20.0|               1|                       20.0|\"7 Variations on ...|           1|   1|        NULL|NULL|\n",
      "|          3|2024-12-30|           1|               1|                69.0|                69.0|               1|                       69.0|\"Sonata No. 14 \"\"...|           1|   1|        NULL|NULL|\n",
      "|          4|2024-01-03|           1|               1|                 7.0|                 7.0|               1|                        7.0|\"Don Giovanni, K....|           1|   1|        NULL|NULL|\n",
      "|          4|2024-02-03|           1|               1|                 0.0|                 0.0|               1|                        0.0|\"Variations on an...|           1|   1|        NULL|NULL|\n",
      "|          4|2024-02-15|           1|               1|                43.0|                43.0|               1|                       43.0|\"Amaranth (aus \"\"...|           1|   1|        NULL|NULL|\n",
      "|          4|2024-02-26|           1|               1|                 7.0|                 7.0|               1|                        7.0|\"7 Variations on ...|           1|   1|        NULL|NULL|\n",
      "|          4|2024-03-02|           1|               1|                17.0|                17.0|               1|                       17.0|\"8 Variations on ...|           1|   1|        NULL|NULL|\n",
      "|          4|2024-04-07|           1|               1|                 6.0|                 6.0|               1|                        6.0|\"Don Giovanni, os...|           1|   1|        NULL|NULL|\n",
      "|          4|2024-04-09|           1|               1|                 1.0|                 1.0|               1|                        1.0|\"Contredanse in C...|           1|   1|        NULL|NULL|\n",
      "+-----------+----------+------------+----------------+--------------------+--------------------+----------------+---------------------------+--------------------+------------+----+------------+----+\n",
      "only showing top 20 rows\n",
      "\n"
     ]
    }
   ],
   "source": [
    "final_kpi_table = listen_count.join(unique_listeners, [\"track_genre\", \"date\"]) \\\n",
    "                              .join(total_listening_time, [\"track_genre\", \"date\"]) \\\n",
    "                              .join(avg_listening_time_per_user, [\"track_genre\", \"date\"]) \\\n",
    "                              .join(top_songs_per_genre, [\"track_genre\", \"date\"], \"left\") \\\n",
    "                              .join(top_genres_per_day, [\"track_genre\", \"date\"], \"left\")\n",
    "final_kpi_table.show()"
   ]
  }
 ],
 "metadata": {
  "kernelspec": {
   "display_name": "pyspark",
   "language": "python",
   "name": "python3"
  },
  "language_info": {
   "codemirror_mode": {
    "name": "ipython",
    "version": 3
   },
   "file_extension": ".py",
   "mimetype": "text/x-python",
   "name": "python",
   "nbconvert_exporter": "python",
   "pygments_lexer": "ipython3",
   "version": "3.13.0"
  }
 },
 "nbformat": 4,
 "nbformat_minor": 2
}
