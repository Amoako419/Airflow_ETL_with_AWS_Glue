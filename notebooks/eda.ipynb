{
 "cells": [
  {
   "cell_type": "code",
   "execution_count": 53,
   "metadata": {},
   "outputs": [],
   "source": [
    "# import the PySpark module\n",
    "from pyspark.sql import SparkSession\n",
    "spark = SparkSession.builder.getOrCreate()\n",
    "from pyspark.sql.window import Window\n",
    "from pyspark.sql import functions as F"
   ]
  },
  {
   "cell_type": "code",
   "execution_count": 54,
   "metadata": {},
   "outputs": [
    {
     "data": {
      "text/html": [
       "\n",
       "            <div>\n",
       "                <p><b>SparkSession - in-memory</b></p>\n",
       "                \n",
       "        <div>\n",
       "            <p><b>SparkContext</b></p>\n",
       "\n",
       "            <p><a href=\"http://AMALITECH-PC-11075:4040\">Spark UI</a></p>\n",
       "\n",
       "            <dl>\n",
       "              <dt>Version</dt>\n",
       "                <dd><code>v3.5.3</code></dd>\n",
       "              <dt>Master</dt>\n",
       "                <dd><code>local[*]</code></dd>\n",
       "              <dt>AppName</dt>\n",
       "                <dd><code>pyspark-shell</code></dd>\n",
       "            </dl>\n",
       "        </div>\n",
       "        \n",
       "            </div>\n",
       "        "
      ],
      "text/plain": [
       "<pyspark.sql.session.SparkSession at 0x1faa0e696a0>"
      ]
     },
     "execution_count": 54,
     "metadata": {},
     "output_type": "execute_result"
    }
   ],
   "source": [
    "# initialize the SparkContext\n",
    "spark"
   ]
  },
  {
   "cell_type": "code",
   "execution_count": 55,
   "metadata": {},
   "outputs": [],
   "source": [
    "spark.conf.set('spark.sql.repl.eagerEval.enabled', True)"
   ]
  },
  {
   "cell_type": "code",
   "execution_count": 56,
   "metadata": {},
   "outputs": [],
   "source": [
    "# read the songs data from the CSV file\n",
    "songs = spark.read.csv('../data/songs/songs.csv', header=True, inferSchema=True)"
   ]
  },
  {
   "cell_type": "code",
   "execution_count": 57,
   "metadata": {},
   "outputs": [
    {
     "name": "stdout",
     "output_type": "stream",
     "text": [
      "+---+--------------------+--------------------+--------------------+--------------------+----------+-----------+--------+------------+------+---+--------+----+-----------+------------+----------------+--------+-------+-------+--------------+-----------+\n",
      "| id|            track_id|             artists|          album_name|          track_name|popularity|duration_ms|explicit|danceability|energy|key|loudness|mode|speechiness|acousticness|instrumentalness|liveness|valence|  tempo|time_signature|track_genre|\n",
      "+---+--------------------+--------------------+--------------------+--------------------+----------+-----------+--------+------------+------+---+--------+----+-----------+------------+----------------+--------+-------+-------+--------------+-----------+\n",
      "|  0|5SuOikwiRyPMVoIQD...|         Gen Hoshino|              Comedy|              Comedy|        73|     230666|   False|       0.676| 0.461|  1|  -6.746|   0|      0.143|      0.0322|         1.01E-6|   0.358|  0.715| 87.917|           4.0|   acoustic|\n",
      "|  1|4qPNDBW1i3p13qLCt...|        Ben Woodward|    Ghost (Acoustic)|    Ghost - Acoustic|        55|     149610|   False|        0.42| 0.166|  1| -17.235|   1|     0.0763|       0.924|         5.56E-6|   0.101|  0.267| 77.489|           4.0|   acoustic|\n",
      "|  2|1iJBSr7s7jYXzM8EG...|Ingrid Michaelson...|      To Begin Again|      To Begin Again|        57|     210826|   False|       0.438| 0.359|  0|  -9.734|   1|     0.0557|        0.21|             0.0|   0.117|   0.12| 76.332|           4.0|   acoustic|\n",
      "|  3|6lfxq3CG4xtTiEg7o...|        Kina Grannis|Crazy Rich Asians...|Can't Help Fallin...|        71|     201933|   False|       0.266|0.0596|  0| -18.515|   1|     0.0363|       0.905|         7.07E-5|   0.132|  0.143| 181.74|           3.0|   acoustic|\n",
      "|  4|5vjLSffimiIP26QG5...|    Chord Overstreet|             Hold On|             Hold On|        82|     198853|   False|       0.618| 0.443|  2|  -9.681|   1|     0.0526|       0.469|             0.0|  0.0829|  0.167|119.949|           4.0|   acoustic|\n",
      "|  5|01MVOl9KtVTNfFiBU...|        Tyrone Wells|Days I Will Remember|Days I Will Remember|        58|     214240|   False|       0.688| 0.481|  6|  -8.807|   1|      0.105|       0.289|             0.0|   0.189|  0.666| 98.017|           4.0|   acoustic|\n",
      "|  6|6Vc5wAMmXdKIAM7WU...|A Great Big World...|Is There Anybody ...|       Say Something|        74|     229400|   False|       0.407| 0.147|  2|  -8.822|   1|     0.0355|       0.857|         2.89E-6|  0.0913| 0.0765|141.284|           3.0|   acoustic|\n",
      "|  7|1EzrEOXmMH3G43AXT...|          Jason Mraz|We Sing. We Dance...|           I'm Yours|        80|     242946|   False|       0.703| 0.444| 11|  -9.331|   1|     0.0417|       0.559|             0.0|  0.0973|  0.712| 150.96|           4.0|   acoustic|\n",
      "|  8|0IktbUcnAGrvD03AW...|Jason Mraz;Colbie...|We Sing. We Dance...|               Lucky|        74|     189613|   False|       0.625| 0.414|  0|    -8.7|   1|     0.0369|       0.294|             0.0|   0.151|  0.669|130.088|           4.0|   acoustic|\n",
      "|  9|7k9GuJYLp2AzqokyE...|      Ross Copperman|              Hunger|              Hunger|        56|     205594|   False|       0.442| 0.632|  1|   -6.77|   1|     0.0295|       0.426|         0.00419|  0.0735|  0.196| 78.899|           4.0|   acoustic|\n",
      "+---+--------------------+--------------------+--------------------+--------------------+----------+-----------+--------+------------+------+---+--------+----+-----------+------------+----------------+--------+-------+-------+--------------+-----------+\n",
      "only showing top 10 rows\n",
      "\n"
     ]
    }
   ],
   "source": [
    "songs.show(10)"
   ]
  },
  {
   "cell_type": "code",
   "execution_count": 58,
   "metadata": {},
   "outputs": [],
   "source": [
    "# read the songs data from the CSV file\n",
    "users = spark.read.csv('../data/users/users.csv', header=True, inferSchema=True)"
   ]
  },
  {
   "cell_type": "code",
   "execution_count": 59,
   "metadata": {},
   "outputs": [
    {
     "name": "stdout",
     "output_type": "stream",
     "text": [
      "+-------+-----------------+--------+-------------+----------+\n",
      "|user_id|        user_name|user_age| user_country|created_at|\n",
      "+-------+-----------------+--------+-------------+----------+\n",
      "|      1|     Norma Fisher|      65|United States|2024-02-07|\n",
      "|      2|   Jorge Sullivan|      28|United States|2024-11-28|\n",
      "|      3|  Elizabeth Woods|      19|United States|2024-11-16|\n",
      "|      4|     Susan Wagner|      45|United States|2024-06-14|\n",
      "|      5| Peter Montgomery|      61|United States|2024-07-24|\n",
      "|      6| Theodore Mcgrath|      58|United States|2024-12-12|\n",
      "|      7|Stephanie Collins|      68|United States|2024-04-16|\n",
      "|      8| Stephanie Sutton|      53|United States|2024-05-04|\n",
      "|      9|   Brian Hamilton|      34|United States|2024-09-15|\n",
      "|     10|       Susan Levy|      18|United States|2024-09-08|\n",
      "+-------+-----------------+--------+-------------+----------+\n",
      "only showing top 10 rows\n",
      "\n"
     ]
    }
   ],
   "source": [
    "users.show(10)"
   ]
  },
  {
   "cell_type": "code",
   "execution_count": 60,
   "metadata": {},
   "outputs": [],
   "source": [
    "# read the streams data from the CSV file\n",
    "streams1 = spark.read.csv('../data/streams/streams1.csv', header=True, inferSchema=True)\n",
    "streams2 = spark.read.csv('../data/streams/streams2.csv', header=True, inferSchema=True)\n",
    "streams3 = spark.read.csv('../data/streams/streams3.csv', header=True, inferSchema=True)"
   ]
  },
  {
   "cell_type": "code",
   "execution_count": 61,
   "metadata": {},
   "outputs": [
    {
     "name": "stdout",
     "output_type": "stream",
     "text": [
      "+-------+--------------------+-------------------+\n",
      "|user_id|            track_id|        listen_time|\n",
      "+-------+--------------------+-------------------+\n",
      "|  26213|4dBa8T7oDV9WvGr7k...|2024-06-25 17:43:13|\n",
      "|   6937|4osgfFTICMkcGbbig...|2024-06-25 07:26:00|\n",
      "|  21407|2LoQWx41KeqOrSFra...|2024-06-25 13:25:26|\n",
      "|  47146|7cfG5lFeJWEgpSnub...|2024-06-25 18:17:50|\n",
      "|  38594|6tilCYbheGMHo3Hw4...|2024-06-25 17:33:21|\n",
      "|  14209|2QuOheWJqShIBIYC1...|2024-06-25 02:52:20|\n",
      "|  26986|6qBSGvyUzqNQv8Xtn...|2024-06-25 22:32:51|\n",
      "|   8173|1wXSL0SAzd7mX0LM8...|2024-06-25 11:59:10|\n",
      "|  12950|0L7Nv6ToXLRAWId4e...|2024-06-25 17:54:30|\n",
      "|   2898|7tnE9vy6FCRtbZql5...|2024-06-25 18:30:31|\n",
      "+-------+--------------------+-------------------+\n",
      "only showing top 10 rows\n",
      "\n"
     ]
    }
   ],
   "source": [
    "# concat the streams data\n",
    "streams = streams1.union(streams2).union(streams3)\n",
    "streams.show(10)\n"
   ]
  },
  {
   "cell_type": "code",
   "execution_count": 62,
   "metadata": {},
   "outputs": [],
   "source": [
    "# rename the first track_id column to avoid ambiguity\n",
    "streams = streams.withColumnRenamed(\"track_id\", \"track_id_1\")\n",
    "streams = streams.withColumnRenamed(\"user_id\", \"user_id_1\")"
   ]
  },
  {
   "cell_type": "code",
   "execution_count": 63,
   "metadata": {},
   "outputs": [
    {
     "name": "stdout",
     "output_type": "stream",
     "text": [
      "+-------+------------------+--------------------+\n",
      "|summary|         user_id_1|          track_id_1|\n",
      "+-------+------------------+--------------------+\n",
      "|  count|             34038|               34038|\n",
      "|   mean|24934.808420001176|                NULL|\n",
      "| stddev|14444.125256146368|                NULL|\n",
      "|    min|                 3|0000vdREvCVMxbQTk...|\n",
      "|    max|             49999|7zxpdh3EqMq2JCkOI...|\n",
      "+-------+------------------+--------------------+\n",
      "\n"
     ]
    }
   ],
   "source": [
    "streams.describe().show()"
   ]
  },
  {
   "cell_type": "code",
   "execution_count": 64,
   "metadata": {},
   "outputs": [
    {
     "name": "stdout",
     "output_type": "stream",
     "text": [
      "+-------+-----------------+--------------------+------------------+----------------------------+--------------+------------------+--------------------+------------------+-----------------+--------------------+-----------------+------------------+----------------+------------------+-------------------+------------------+-----------------+-------------------+-----------------+------------------+------------------+\n",
      "|summary|               id|            track_id|           artists|                  album_name|    track_name|        popularity|         duration_ms|          explicit|     danceability|              energy|              key|          loudness|            mode|       speechiness|       acousticness|  instrumentalness|         liveness|            valence|            tempo|    time_signature|       track_genre|\n",
      "+-------+-----------------+--------------------+------------------+----------------------------+--------------+------------------+--------------------+------------------+-----------------+--------------------+-----------------+------------------+----------------+------------------+-------------------+------------------+-----------------+-------------------+-----------------+------------------+------------------+\n",
      "|  count|            89741|               89741|             89740|                       89740|         89740|             89741|               89741|             89741|            89741|               89741|            89741|             89741|           89741|             89741|              89741|             89741|            89741|              89741|            89741|             89741|             89741|\n",
      "|   mean|53479.14414815971|                NULL|          4425.775|                    Infinity|      Infinity|33.218531370995635|   228968.4900229639|164008.09174311926|39.77311613439367|   4.044996745550605| 7.12314423596407|2.0542242905856964|2.89385829386527|1.3271324102655435|0.32724658385956845|1.9883775972234554|3.377600199566883|0.46930670386676754|121.9193701217944|3.9940354443453945|23.083248458333333|\n",
      "| stddev|33409.98150200114|                NULL|14461.681191922153|                         NaN|           NaN|20.580922483320293|  113062.49229751206| 158943.2551850072| 3137.40901002627|   729.6975223646102|552.2772938129276|1942.6967524844183| 681.31219251588| 372.9886660028764| 0.3571049294161017| 543.4487205040567|692.9101724595571| 0.2692998643253719| 30.4185761185554| 3.347598907203215| 41.50450513962588|\n",
      "|    min|                0|0000vdREvCVMxbQTk...|            !nvite|        ! ! ! ! ! Whisper...| Live in Odeon|             Act 1|                Aida|              Aida|             Aida|                Aida|        Amneris)\"|              Aida|         Amneris|           Amneris|         Amonasro)\"|           -15.988|          -11.763|            -16.853|           -16.92|               0.0|           -12.753|\n",
      "|    max|           113999|7zz7iNGIWhmfFE7zl...|         龍藏Ryuzo|당신이 잠든 사이에 Pt. 4 ...| 행복하길 바래|           Zendani|The Song of the G...|              True|            False|Hearts And Soul -...|            False|             False|           False|             False|              False|          162800.0|            False|              False|          243.372|           182.016|       world-music|\n",
      "+-------+-----------------+--------------------+------------------+----------------------------+--------------+------------------+--------------------+------------------+-----------------+--------------------+-----------------+------------------+----------------+------------------+-------------------+------------------+-----------------+-------------------+-----------------+------------------+------------------+\n",
      "\n"
     ]
    }
   ],
   "source": [
    "songs.describe().show()"
   ]
  },
  {
   "cell_type": "code",
   "execution_count": 65,
   "metadata": {},
   "outputs": [
    {
     "name": "stdout",
     "output_type": "stream",
     "text": [
      "+-------+-----------------+--------------+------------------+-------------+\n",
      "|summary|          user_id|     user_name|          user_age| user_country|\n",
      "+-------+-----------------+--------------+------------------+-------------+\n",
      "|  count|            50000|         50000|             50000|        50000|\n",
      "|   mean|          25000.5|          NULL|          43.56998|         NULL|\n",
      "| stddev|14433.90106658626|          NULL|14.996324902949087|         NULL|\n",
      "|    min|                1|Aaron Alvarado|                18|    Australia|\n",
      "|    max|            50000|   Zoe Walters|                69|United States|\n",
      "+-------+-----------------+--------------+------------------+-------------+\n",
      "\n"
     ]
    }
   ],
   "source": [
    "users.describe().show()"
   ]
  },
  {
   "cell_type": "code",
   "execution_count": 80,
   "metadata": {},
   "outputs": [],
   "source": [
    "data = streams.join(users, streams.user_id_1 == users.user_id, how='left').join(songs, streams.track_id_1 == songs.track_id, how='left')"
   ]
  },
  {
   "cell_type": "code",
   "execution_count": 82,
   "metadata": {},
   "outputs": [
    {
     "name": "stdout",
     "output_type": "stream",
     "text": [
      "+-------+------------------+--------------------+------------------+--------------+------------------+-------------+------------------+--------------------+------------------+----------------------------+--------------+------------------+--------------------+------------------+-----------------+------------------+------------------+------------------+------------------+-------------------+------------------+-------------------+-----------------+-------------------+------------------+-----------------+------------------+\n",
      "|summary|         user_id_1|          track_id_1|           user_id|     user_name|          user_age| user_country|                id|            track_id|           artists|                  album_name|    track_name|        popularity|         duration_ms|          explicit|     danceability|            energy|               key|          loudness|              mode|        speechiness|      acousticness|   instrumentalness|         liveness|            valence|             tempo|   time_signature|       track_genre|\n",
      "+-------+------------------+--------------------+------------------+--------------+------------------+-------------+------------------+--------------------+------------------+----------------------------+--------------+------------------+--------------------+------------------+-----------------+------------------+------------------+------------------+------------------+-------------------+------------------+-------------------+-----------------+-------------------+------------------+-----------------+------------------+\n",
      "|  count|             34038|               34038|             34038|         34038|             34038|        34038|             34038|               34038|             34038|                       34038|         34038|             34038|               34038|             34038|            34038|             34038|             34038|             34038|             34038|              34038|             34038|              34038|            34038|              34038|             34038|            34038|             34038|\n",
      "|   mean|24934.808420001176|                NULL|24934.808420001176|          NULL|43.530612844467946|         NULL|53494.459839003466|                NULL|1910.4736842105262|                    Infinity|      Infinity|33.312016245327996|  228878.85959961195|152401.56603773584| 70.0507639524623|0.6340410802992454|14.957939621870963| 2.555534091376506| 6.613026325841045|0.07867734163826545|0.3311337081893234|0.17236213030230935|5.493566140361048|0.46876984605870087|122.00452908220214|4.013293014336917|28.105237288135594|\n",
      "| stddev|14444.125256146372|                NULL|14444.125256146372|          NULL|14.994211653012613|         NULL|33534.417709983434|                NULL|1514.9317318106396|                         NaN|           NaN|20.637926488971026|  115292.61464333763|136968.94265763447|4519.231875330159|0.3167275550817547|1268.1419050419413|1440.1786657342764|1106.2774437089688|  0.502231230908643|0.3394413271230112|0.37191839865688053|973.6136847712592|0.27927534554288197| 30.38000601909808|3.712639802170937| 45.80701592676757|\n",
      "|    min|                 3|0000vdREvCVMxbQTk...|                 3|Aaron Alvarado|                18|    Australia|                 9|0000vdREvCVMxbQTk...|            !nvite|        \"! !\"\"#Reboot#\"\"! !\"| Live in Odeon|             Act 1|                Aida|              Aida|          Amneris|              Aida|         Amneris)\"|              Aida|           Radamès|            Amneris|        Amonasro)\"|            -15.988|          -11.763|            -16.853|               0.0|              0.0|             0.159|\n",
      "|    max|             49999|7zxpdh3EqMq2JCkOI...|             49999|    Zoe Newman|                69|United States|            113996|7zxpdh3EqMq2JCkOI...|            黃敏華|당신이 잠든 사이에 Pt. 4 ...| 행복하길 바래|          The Wait|The Song of the G...|              True|            False|             False|                 9|             False|             False|              False|             9e-05|               22.0|         9.71e-06|              False|           220.525|          182.016|       world-music|\n",
      "+-------+------------------+--------------------+------------------+--------------+------------------+-------------+------------------+--------------------+------------------+----------------------------+--------------+------------------+--------------------+------------------+-----------------+------------------+------------------+------------------+------------------+-------------------+------------------+-------------------+-----------------+-------------------+------------------+-----------------+------------------+\n",
      "\n"
     ]
    }
   ],
   "source": [
    "data.describe().show()"
   ]
  },
  {
   "cell_type": "code",
   "execution_count": 67,
   "metadata": {},
   "outputs": [],
   "source": [
    "# Join the songs and users dataframes\n",
    "song_users = songs.join(users, songs.id == users.user_id, how='left')"
   ]
  },
  {
   "cell_type": "code",
   "execution_count": 68,
   "metadata": {},
   "outputs": [],
   "source": [
    "# Join the song_users and streams dataframes\n",
    "song_users = song_users.join(streams, song_users.id == streams.user_id_1, how='left')"
   ]
  },
  {
   "cell_type": "code",
   "execution_count": 69,
   "metadata": {},
   "outputs": [
    {
     "name": "stdout",
     "output_type": "stream",
     "text": [
      "+-------+-----------------+--------------------+------------------+----------------------------+--------------+-----------------+--------------------+------------------+------------------+--------------------+-----------------+------------------+------------------+------------------+-------------------+------------------+-----------------+------------------+------------------+------------------+------------------+------------------+--------------+------------------+-------------+------------------+--------------------+\n",
      "|summary|               id|            track_id|           artists|                  album_name|    track_name|       popularity|         duration_ms|          explicit|      danceability|              energy|              key|          loudness|              mode|       speechiness|       acousticness|  instrumentalness|         liveness|           valence|             tempo|    time_signature|       track_genre|           user_id|     user_name|          user_age| user_country|         user_id_1|          track_id_1|\n",
      "+-------+-----------------+--------------------+------------------+----------------------------+--------------+-----------------+--------------------+------------------+------------------+--------------------+-----------------+------------------+------------------+------------------+-------------------+------------------+-----------------+------------------+------------------+------------------+------------------+------------------+--------------+------------------+-------------+------------------+--------------------+\n",
      "|  count|           103953|              103953|            103952|                      103952|        103952|           103953|              103953|            103953|            103953|              103953|           103953|            103953|            103953|            103953|             103953|            103953|           103953|            103953|            103953|            103953|            103953|             58402|         58402|             58402|        58402|             30171|               30171|\n",
      "|   mean|49473.85337604494|                NULL|11082.019607843138|                    Infinity|      Infinity|33.20528206659411|   229178.9347165018|168458.49579831932| 35.56131626753702|  3.5823471626920864|6.886597624535814|0.6681508716858062|2.5832024974265733|1.1583248304456908|0.32191075255199497|1.7430768584220764|2.944648203104626|0.4676009677473032|122.09796798937974|  3.99335169558358| 23.00685242307692|24213.628642854695|          NULL| 43.61982466353892|         NULL|  24176.7314639886|                NULL|\n",
      "| stddev| 33065.8379690445|                NULL|27300.464372966406|                         NaN|           NaN| 20.6147581032351|  117159.24983974952|160478.05002183764|2926.8377424386235|   677.9750494591249|513.1368494562537|1805.0157594090133| 633.0254379252821|346.55429853430974| 0.3537416515016426| 504.9350462575347|643.8042463870183|0.2677604329630485|30.335395456382148|3.3388688525344294|41.280496266847386| 14415.45116440529|          NULL|14.992234976388321|         NULL|14410.199695074225|                NULL|\n",
      "|    min|                0|0000vdREvCVMxbQTk...|            !nvite|        ! ! ! ! ! Whisper...| Live in Odeon|            Act 1|                Aida|              Aida|              Aida|                Aida|        Amneris)\"|              Aida|           Amneris|           Amneris|         Amonasro)\"|           -15.988|          -11.763|           -16.853|            -16.92|               0.0|           -12.753|                 1|Aaron Alvarado|                18|    Australia|                 3|0000vdREvCVMxbQTk...|\n",
      "|    max|           113999|7zz7iNGIWhmfFE7zl...|         龍藏Ryuzo|당신이 잠든 사이에 Pt. 4 ...| 행복하길 바래|          Zendani|The Song of the G...|              True|             False|Hearts And Soul -...|            False|             False|             False|             False|              False|          162800.0|            False|             False|           243.372|           182.016|       world-music|             50000|   Zoe Walters|                69|United States|             49999|7zxpdh3EqMq2JCkOI...|\n",
      "+-------+-----------------+--------------------+------------------+----------------------------+--------------+-----------------+--------------------+------------------+------------------+--------------------+-----------------+------------------+------------------+------------------+-------------------+------------------+-----------------+------------------+------------------+------------------+------------------+------------------+--------------+------------------+-------------+------------------+--------------------+\n",
      "\n"
     ]
    }
   ],
   "source": [
    "song_users.describe().show()"
   ]
  },
  {
   "cell_type": "code",
   "execution_count": 70,
   "metadata": {},
   "outputs": [
    {
     "name": "stdout",
     "output_type": "stream",
     "text": [
      "+---+--------------------+--------------------+--------------------+--------------------+----------+-----------+--------+------------+------+---+--------+----+-----------+------------+----------------+--------+-------+-------+--------------+-----------+-------+-----------------+--------+-------------+----------+---------+--------------------+-------------------+\n",
      "| id|            track_id|             artists|          album_name|          track_name|popularity|duration_ms|explicit|danceability|energy|key|loudness|mode|speechiness|acousticness|instrumentalness|liveness|valence|  tempo|time_signature|track_genre|user_id|        user_name|user_age| user_country|created_at|user_id_1|          track_id_1|        listen_time|\n",
      "+---+--------------------+--------------------+--------------------+--------------------+----------+-----------+--------+------------+------+---+--------+----+-----------+------------+----------------+--------+-------+-------+--------------+-----------+-------+-----------------+--------+-------------+----------+---------+--------------------+-------------------+\n",
      "|  0|5SuOikwiRyPMVoIQD...|         Gen Hoshino|              Comedy|              Comedy|        73|     230666|   False|       0.676| 0.461|  1|  -6.746|   0|      0.143|      0.0322|         1.01E-6|   0.358|  0.715| 87.917|           4.0|   acoustic|   NULL|             NULL|    NULL|         NULL|      NULL|     NULL|                NULL|               NULL|\n",
      "|  1|4qPNDBW1i3p13qLCt...|        Ben Woodward|    Ghost (Acoustic)|    Ghost - Acoustic|        55|     149610|   False|        0.42| 0.166|  1| -17.235|   1|     0.0763|       0.924|         5.56E-6|   0.101|  0.267| 77.489|           4.0|   acoustic|      1|     Norma Fisher|      65|United States|2024-02-07|     NULL|                NULL|               NULL|\n",
      "|  2|1iJBSr7s7jYXzM8EG...|Ingrid Michaelson...|      To Begin Again|      To Begin Again|        57|     210826|   False|       0.438| 0.359|  0|  -9.734|   1|     0.0557|        0.21|             0.0|   0.117|   0.12| 76.332|           4.0|   acoustic|      2|   Jorge Sullivan|      28|United States|2024-11-28|     NULL|                NULL|               NULL|\n",
      "|  3|6lfxq3CG4xtTiEg7o...|        Kina Grannis|Crazy Rich Asians...|Can't Help Fallin...|        71|     201933|   False|       0.266|0.0596|  0| -18.515|   1|     0.0363|       0.905|         7.07E-5|   0.132|  0.143| 181.74|           3.0|   acoustic|      3|  Elizabeth Woods|      19|United States|2024-11-16|        3|17OzwixEJc4MEjKjF...|2024-06-25 08:46:10|\n",
      "|  4|5vjLSffimiIP26QG5...|    Chord Overstreet|             Hold On|             Hold On|        82|     198853|   False|       0.618| 0.443|  2|  -9.681|   1|     0.0526|       0.469|             0.0|  0.0829|  0.167|119.949|           4.0|   acoustic|      4|     Susan Wagner|      45|United States|2024-06-14|     NULL|                NULL|               NULL|\n",
      "|  5|01MVOl9KtVTNfFiBU...|        Tyrone Wells|Days I Will Remember|Days I Will Remember|        58|     214240|   False|       0.688| 0.481|  6|  -8.807|   1|      0.105|       0.289|             0.0|   0.189|  0.666| 98.017|           4.0|   acoustic|      5| Peter Montgomery|      61|United States|2024-07-24|     NULL|                NULL|               NULL|\n",
      "|  6|6Vc5wAMmXdKIAM7WU...|A Great Big World...|Is There Anybody ...|       Say Something|        74|     229400|   False|       0.407| 0.147|  2|  -8.822|   1|     0.0355|       0.857|         2.89E-6|  0.0913| 0.0765|141.284|           3.0|   acoustic|      6| Theodore Mcgrath|      58|United States|2024-12-12|        6|5uraJqtCBvLpwt3Ve...|2024-06-25 05:27:49|\n",
      "|  7|1EzrEOXmMH3G43AXT...|          Jason Mraz|We Sing. We Dance...|           I'm Yours|        80|     242946|   False|       0.703| 0.444| 11|  -9.331|   1|     0.0417|       0.559|             0.0|  0.0973|  0.712| 150.96|           4.0|   acoustic|      7|Stephanie Collins|      68|United States|2024-04-16|     NULL|                NULL|               NULL|\n",
      "|  8|0IktbUcnAGrvD03AW...|Jason Mraz;Colbie...|We Sing. We Dance...|               Lucky|        74|     189613|   False|       0.625| 0.414|  0|    -8.7|   1|     0.0369|       0.294|             0.0|   0.151|  0.669|130.088|           4.0|   acoustic|      8| Stephanie Sutton|      53|United States|2024-05-04|        8|30WZViwU19Gq6aKQ1...|2024-06-25 21:32:20|\n",
      "|  8|0IktbUcnAGrvD03AW...|Jason Mraz;Colbie...|We Sing. We Dance...|               Lucky|        74|     189613|   False|       0.625| 0.414|  0|    -8.7|   1|     0.0369|       0.294|             0.0|   0.151|  0.669|130.088|           4.0|   acoustic|      8| Stephanie Sutton|      53|United States|2024-05-04|        8|7Gpr3kKk4BMgItz6U...|2024-06-25 21:32:23|\n",
      "+---+--------------------+--------------------+--------------------+--------------------+----------+-----------+--------+------------+------+---+--------+----+-----------+------------+----------------+--------+-------+-------+--------------+-----------+-------+-----------------+--------+-------------+----------+---------+--------------------+-------------------+\n",
      "only showing top 10 rows\n",
      "\n"
     ]
    }
   ],
   "source": [
    "song_users.show(10)"
   ]
  },
  {
   "cell_type": "code",
   "execution_count": 71,
   "metadata": {},
   "outputs": [
    {
     "data": {
      "text/plain": [
       "['id',\n",
       " 'track_id',\n",
       " 'artists',\n",
       " 'album_name',\n",
       " 'track_name',\n",
       " 'popularity',\n",
       " 'duration_ms',\n",
       " 'explicit',\n",
       " 'danceability',\n",
       " 'energy',\n",
       " 'key',\n",
       " 'loudness',\n",
       " 'mode',\n",
       " 'speechiness',\n",
       " 'acousticness',\n",
       " 'instrumentalness',\n",
       " 'liveness',\n",
       " 'valence',\n",
       " 'tempo',\n",
       " 'time_signature',\n",
       " 'track_genre',\n",
       " 'user_id',\n",
       " 'user_name',\n",
       " 'user_age',\n",
       " 'user_country',\n",
       " 'created_at',\n",
       " 'user_id_1',\n",
       " 'track_id_1',\n",
       " 'listen_time']"
      ]
     },
     "execution_count": 71,
     "metadata": {},
     "output_type": "execute_result"
    }
   ],
   "source": [
    "song_users.columns"
   ]
  },
  {
   "cell_type": "code",
   "execution_count": 72,
   "metadata": {},
   "outputs": [
    {
     "name": "stdout",
     "output_type": "stream",
     "text": [
      "+-----------+----------+------------+\n",
      "|track_genre|      date|listen_count|\n",
      "+-----------+----------+------------+\n",
      "|   acoustic|2024-05-20|           7|\n",
      "|   acoustic|2024-08-13|           2|\n",
      "|   afrobeat|2024-11-23|           2|\n",
      "|   alt-rock|2024-08-26|           3|\n",
      "|   alt-rock|2024-09-25|           7|\n",
      "|   alt-rock|2024-06-03|           4|\n",
      "|alternative|2024-10-31|           9|\n",
      "|alternative|2024-09-04|           1|\n",
      "|alternative|2024-02-11|           2|\n",
      "|alternative|2024-01-18|           1|\n",
      "|    ambient|2024-11-06|          10|\n",
      "|    ambient|2024-08-08|           5|\n",
      "|      anime|2024-11-02|           5|\n",
      "|      anime|2024-04-09|           9|\n",
      "|black-metal|2024-04-10|           6|\n",
      "|  bluegrass|2024-03-14|           2|\n",
      "|  bluegrass|2024-04-22|           3|\n",
      "|    british|2024-10-11|           3|\n",
      "|   cantopop|2024-02-26|           6|\n",
      "|   cantopop|2024-04-11|           1|\n",
      "+-----------+----------+------------+\n",
      "only showing top 20 rows\n",
      "\n"
     ]
    }
   ],
   "source": [
    "listen_count = song_users.groupBy(\"track_genre\", F.to_date(\"created_at\").alias(\"date\")) \\\n",
    "                 .agg(F.count(\"track_id\").alias(\"listen_count\"))\n",
    "listen_count.show()"
   ]
  },
  {
   "cell_type": "code",
   "execution_count": 73,
   "metadata": {},
   "outputs": [
    {
     "data": {
      "text/plain": [
       "['id',\n",
       " 'track_id',\n",
       " 'artists',\n",
       " 'album_name',\n",
       " 'track_name',\n",
       " 'popularity',\n",
       " 'duration_ms',\n",
       " 'explicit',\n",
       " 'danceability',\n",
       " 'energy',\n",
       " 'key',\n",
       " 'loudness',\n",
       " 'mode',\n",
       " 'speechiness',\n",
       " 'acousticness',\n",
       " 'instrumentalness',\n",
       " 'liveness',\n",
       " 'valence',\n",
       " 'tempo',\n",
       " 'time_signature',\n",
       " 'track_genre',\n",
       " 'user_id',\n",
       " 'user_name',\n",
       " 'user_age',\n",
       " 'user_country',\n",
       " 'created_at',\n",
       " 'user_id_1',\n",
       " 'track_id_1',\n",
       " 'listen_time']"
      ]
     },
     "execution_count": 73,
     "metadata": {},
     "output_type": "execute_result"
    }
   ],
   "source": [
    "song_users.columns"
   ]
  },
  {
   "cell_type": "code",
   "execution_count": 74,
   "metadata": {},
   "outputs": [
    {
     "name": "stdout",
     "output_type": "stream",
     "text": [
      "+-----------+----------+----------------+\n",
      "|track_genre|      date|unique_listeners|\n",
      "+-----------+----------+----------------+\n",
      "|  bluegrass|2024-04-22|               1|\n",
      "|      anime|2024-11-02|               3|\n",
      "|   alt-rock|2024-09-25|               2|\n",
      "|   afrobeat|2024-11-23|               1|\n",
      "|     comedy|2024-02-26|               2|\n",
      "|      anime|2024-04-09|               2|\n",
      "|   acoustic|2024-05-20|               3|\n",
      "|      disco|2024-09-23|               2|\n",
      "|   children|2024-02-03|               1|\n",
      "|    ambient|2024-08-08|               3|\n",
      "|black-metal|2024-04-10|               1|\n",
      "|  bluegrass|2024-03-14|               1|\n",
      "|  classical|2024-03-12|               1|\n",
      "|      dance|2024-04-11|               1|\n",
      "| deep-house|2024-08-04|               1|\n",
      "|   cantopop|2024-02-26|               2|\n",
      "|    ambient|2024-11-06|               2|\n",
      "|alternative|2024-10-31|               3|\n",
      "|   acoustic|2024-08-13|               1|\n",
      "|      chill|2024-11-07|               1|\n",
      "+-----------+----------+----------------+\n",
      "only showing top 20 rows\n",
      "\n"
     ]
    }
   ],
   "source": [
    "unique_listeners = song_users.groupBy(\"track_genre\", F.to_date(\"created_at\").alias(\"date\")) \\\n",
    "                     .agg(F.countDistinct(\"user_id_1\").alias(\"unique_listeners\"))\n",
    "unique_listeners.show()"
   ]
  },
  {
   "cell_type": "code",
   "execution_count": 75,
   "metadata": {},
   "outputs": [
    {
     "name": "stdout",
     "output_type": "stream",
     "text": [
      "+-----------+----------+--------------------+\n",
      "|track_genre|      date|total_listening_time|\n",
      "+-----------+----------+--------------------+\n",
      "|   acoustic|2024-05-20|           1549666.0|\n",
      "|   acoustic|2024-08-13|            288280.0|\n",
      "|   afrobeat|2024-11-23|            782559.0|\n",
      "|   alt-rock|2024-08-26|            637030.0|\n",
      "|   alt-rock|2024-09-25|           1702426.0|\n",
      "|   alt-rock|2024-06-03|            948265.0|\n",
      "|alternative|2024-10-31|           2189045.0|\n",
      "|alternative|2024-09-04|            170771.0|\n",
      "|alternative|2024-02-11|            287121.0|\n",
      "|alternative|2024-01-18|            234760.0|\n",
      "|    ambient|2024-11-06|           2821263.0|\n",
      "|    ambient|2024-08-08|           1195224.0|\n",
      "|      anime|2024-11-02|            724924.0|\n",
      "|      anime|2024-04-09|           2037219.0|\n",
      "|black-metal|2024-04-10|           1326182.0|\n",
      "|  bluegrass|2024-03-14|            419593.0|\n",
      "|  bluegrass|2024-04-22|            219000.0|\n",
      "|    british|2024-10-11|            611801.0|\n",
      "|   cantopop|2024-02-26|           1455488.0|\n",
      "|   cantopop|2024-04-11|            302733.0|\n",
      "+-----------+----------+--------------------+\n",
      "only showing top 20 rows\n",
      "\n"
     ]
    }
   ],
   "source": [
    "total_listening_time = song_users.groupBy(\"track_genre\", F.to_date(\"created_at\").alias(\"date\")) \\\n",
    "                         .agg(F.sum(\"duration_ms\").alias(\"total_listening_time\"))\n",
    "total_listening_time.show()"
   ]
  },
  {
   "cell_type": "code",
   "execution_count": 76,
   "metadata": {},
   "outputs": [
    {
     "name": "stdout",
     "output_type": "stream",
     "text": [
      "+-----------+----------+--------------------+----------------+---------------------------+\n",
      "|track_genre|      date|total_listening_time|unique_listeners|avg_listening_time_per_user|\n",
      "+-----------+----------+--------------------+----------------+---------------------------+\n",
      "|  bluegrass|2024-04-22|            219000.0|               1|                   219000.0|\n",
      "|      anime|2024-11-02|            724924.0|               3|         241641.33333333334|\n",
      "|   alt-rock|2024-09-25|           1702426.0|               2|                   851213.0|\n",
      "|   afrobeat|2024-11-23|            782559.0|               1|                   782559.0|\n",
      "|     comedy|2024-02-26|           1303957.0|               2|                   651978.5|\n",
      "|      anime|2024-04-09|           2037219.0|               2|                  1018609.5|\n",
      "|   acoustic|2024-05-20|           1549666.0|               3|          516555.3333333333|\n",
      "|      disco|2024-09-23|           1162248.0|               2|                   581124.0|\n",
      "|   children|2024-02-03|            176638.0|               1|                   176638.0|\n",
      "|    ambient|2024-08-08|           1195224.0|               3|                   398408.0|\n",
      "|black-metal|2024-04-10|           1326182.0|               1|                  1326182.0|\n",
      "|  bluegrass|2024-03-14|            419593.0|               1|                   419593.0|\n",
      "|  classical|2024-03-12|            538719.0|               1|                   538719.0|\n",
      "|      dance|2024-04-11|           1017574.0|               1|                  1017574.0|\n",
      "| deep-house|2024-08-04|            746974.0|               1|                   746974.0|\n",
      "|   cantopop|2024-02-26|           1455488.0|               2|                   727744.0|\n",
      "|    ambient|2024-11-06|           2821263.0|               2|                  1410631.5|\n",
      "|alternative|2024-10-31|           2189045.0|               3|          729681.6666666666|\n",
      "|   acoustic|2024-08-13|            288280.0|               1|                   288280.0|\n",
      "|      chill|2024-11-07|            656704.0|               1|                   656704.0|\n",
      "+-----------+----------+--------------------+----------------+---------------------------+\n",
      "only showing top 20 rows\n",
      "\n"
     ]
    }
   ],
   "source": [
    "avg_listening_time_per_user = total_listening_time.join(unique_listeners, [\"track_genre\", \"date\"]) \\\n",
    "                                                  .withColumn(\"avg_listening_time_per_user\", \n",
    "                                                              F.col(\"total_listening_time\") / F.col(\"unique_listeners\"))\n",
    "avg_listening_time_per_user.show()"
   ]
  },
  {
   "cell_type": "code",
   "execution_count": 77,
   "metadata": {},
   "outputs": [
    {
     "name": "stdout",
     "output_type": "stream",
     "text": [
      "+----------+--------------------+-----------+------------+----+\n",
      "|      date|          track_name|track_genre|listen_count|rank|\n",
      "+----------+--------------------+-----------+------------+----+\n",
      "|      NULL|Rockin' Around Th...| rockabilly|          45|   1|\n",
      "|      NULL|Little Saint Nick...| psych-rock|          38|   2|\n",
      "|      NULL|Let It Snow! Let ...|       jazz|          32|   3|\n",
      "|2024-06-25|     Run Rudolph Run|      blues|          15|   1|\n",
      "|2024-06-25|  Frosty The Snowman|      blues|          12|   2|\n",
      "|2024-06-25|           Last Last|      dance|          10|   3|\n",
      "|2024-06-25|Cozy Little Chris...|      dance|          10|   3|\n",
      "|2024-06-25|Devil Doesn't Bar...|    electro|          10|   3|\n",
      "+----------+--------------------+-----------+------------+----+\n",
      "\n"
     ]
    }
   ],
   "source": [
    "# Step 2: Compute listen count per song per genre per day\n",
    "song_listen_count = song_users.groupBy( \n",
    "    F.to_date(\"listen_time\").alias(\"date\"), \n",
    "    \"track_name\",\n",
    "    \"track_genre\"\n",
    ").agg(F.countDistinct(\"track_id\").alias(\"listen_count\"))\n",
    "\n",
    "# Step 3: Define ranking window for top songs per genre per day\n",
    "song_rank_window = Window.partitionBy(\"date\").orderBy(F.desc(\"listen_count\"))\n",
    "\n",
    "# Step 4: Rank songs and filter for the top 3 per genre per day\n",
    "top_songs_per_genre = song_listen_count.withColumn(\"rank\", F.rank().over(song_rank_window)) \\\n",
    "                                     .filter(F.col(\"rank\") <= 3)\n",
    "\n",
    "# Step 5: Show results\n",
    "top_songs_per_genre.show()\n"
   ]
  },
  {
   "cell_type": "code",
   "execution_count": 78,
   "metadata": {},
   "outputs": [
    {
     "name": "stdout",
     "output_type": "stream",
     "text": [
      "+-------------+----------+------------+----+\n",
      "|  track_genre|      date|listen_count|rank|\n",
      "+-------------+----------+------------+----+\n",
      "|        tango|      NULL|         999|   1|\n",
      "|        study|      NULL|         998|   2|\n",
      "|  heavy-metal|      NULL|         997|   3|\n",
      "|        sleep|      NULL|         996|   4|\n",
      "|       j-idol|      NULL|         995|   5|\n",
      "|     cantopop|2024-06-25|         378|   1|\n",
      "|        forro|2024-06-25|         377|   2|\n",
      "|chicago-house|2024-06-25|         375|   3|\n",
      "|       disney|2024-06-25|         373|   4|\n",
      "|        chill|2024-06-25|         372|   5|\n",
      "+-------------+----------+------------+----+\n",
      "\n"
     ]
    }
   ],
   "source": [
    "from pyspark.sql import functions as F\n",
    "from pyspark.sql.window import Window\n",
    "\n",
    "# Ensure created_at exists and is correctly formatted\n",
    "song_users = song_users.withColumn(\"created_at\", F.to_timestamp(\"created_at\"))\n",
    "\n",
    "# Step 1: Compute listen count per genre per day\n",
    "genre_listen_count = song_users.groupBy(\n",
    "    \"track_genre\",\n",
    "    F.to_date(\"listen_time\").alias(\"date\")  # Ensure conversion to date format\n",
    ").agg(F.countDistinct(\"track_id\").alias(\"listen_count\"))\n",
    "\n",
    "# Step 2: Define a ranking window for top genres per day\n",
    "genre_rank_window = Window.partitionBy(\"date\").orderBy(F.desc(\"listen_count\"))\n",
    "\n",
    "# Step 3: Apply ranking and filter for the top 5 genres per day\n",
    "top_genres_per_day = genre_listen_count.withColumn(\"rank\", F.rank().over(genre_rank_window)) \\\n",
    "                                       .filter(F.col(\"rank\") <= 5)\n",
    "top_genres_per_day.show()"
   ]
  },
  {
   "cell_type": "code",
   "execution_count": 79,
   "metadata": {},
   "outputs": [
    {
     "name": "stdout",
     "output_type": "stream",
     "text": [
      "+------------+--------------+------------+----------------+--------------------+---------------------------+------------------------------------------------------------------------------------------------------------------------+--------------------------------------------------------------------------------------------+\n",
      "|created_date|track_genre   |listen_count|unique_listeners|total_listening_time|avg_listening_time_per_user|top_3_songs                                                                                                             |top_5_genres                                                                                |\n",
      "+------------+--------------+------------+----------------+--------------------+---------------------------+------------------------------------------------------------------------------------------------------------------------+--------------------------------------------------------------------------------------------+\n",
      "|2024-08-07  |breakbeat     |6           |6               |1654428.0           |275.738                    |Black & Blue, Under The Influence, Umbrella, Cyclone, Take My Love For Granted, Bermuda                                 |disney, bluegrass, grunge, british, ambient, electronic                                     |\n",
      "|2024-07-28  |dance         |3           |3               |632373.0            |210.791                    |F It Up, break up with your girlfriend, i'm bored, Best Life                                                            |disco, black-metal, breakbeat, anime, afrobeat                                              |\n",
      "|2024-08-01  |chill         |6           |6               |680055.0            |113.3425                   |Sad!, Rain on Me, Reasons You Should Care, Scars, stay with me, Will You Stay Here with Me                              |anime, french, edm, afrobeat, alt-rock, forro                                               |\n",
      "|2024-11-02  |british       |6           |3               |1489212.0           |496.404                    |Second Suite in F Major, Op. 28 No. 2, H. 106: I. March, Easy On Me, I Feel Fine - Remastered 2015                      |comedy, detroit-techno, alt-rock, bluegrass, grindcore, happy                               |\n",
      "|2024-03-29  |chill         |4           |4               |911345.0            |227.83625                  |summer nights, seasons, Your Dog Loves You (Feat. Crush)                                                                |chicago-house, forro, happy, country, deep-house, dance                                     |\n",
      "|2024-11-27  |dancehall     |7           |4               |1452133.0           |363.03325                  |My Story, Mek It Bunx Up (feat. Marcy Chin), Oliver Twist, Ozumba Mbadiwe - Remix                                       |dancehall, chill, chicago-house, anime, disney                                              |\n",
      "|2024-09-30  |brazil        |2           |2               |534413.0            |267.2065                   |Toca em Mim de Novo - Ao Vivo, Saudação A Yamanjà                                                                       |bluegrass, grunge, cantopop, black-metal, chill, deep-house, dance, dub, electro, electronic|\n",
      "|2024-10-14  |breakbeat     |2           |2               |822672.0            |411.336                    |Electronic Battle Weapon 2, Lava Flow                                                                                   |forro, classical, bluegrass, gospel, dance, drum-and-bass                                   |\n",
      "|2024-07-02  |dancehall     |2           |2               |340132.0            |170.066                    |Slow Motion, Paranoia - Self Protection P2                                                                              |chill, hard-rock, black-metal, anime, dub                                                   |\n",
      "|2024-01-23  |detroit-techno|8           |3               |2660879.0           |886.9596666666666          |S.E.X - A.O.L Remix, Do You Love What You Feel - Duane Bradley Album Mix, Believer [featuring Ann Saunderson] - The Edit|chill, detroit-techno, grindcore, disco, french                                             |\n",
      "|2024-05-24  |chill         |4           |3               |570403.0            |190.13433333333333         |Smile, Atlantis (Super Sped Up), Older                                                                                  |dance, black-metal, edm, club, deep-house, happy, grindcore                                 |\n",
      "|2024-09-03  |ambient       |4           |4               |1208791.0           |302.19775                  |Abiogenesis, Haul - Radio Edit, Dealing With Destruction - From “Chernobyl” TV Series Soundtrack, Pashupati             |afrobeat, alt-rock, groove, dance, garage                                                   |\n",
      "|2024-12-26  |anime         |2           |2               |418866.0            |209.433                    |FLY HIGH!!, Obsolete                                                                                                    |hardcore, deep-house, detroit-techno, emo, drum-and-bass, disney                            |\n",
      "|2024-12-05  |comedy        |1           |1               |82680.0             |82.68                      |An Importanta Relationship Lesson                                                                                       |bluegrass, french, disco, black-metal, cantopop, classical, guitar, dub                     |\n",
      "|2024-05-18  |country       |1           |1               |219169.0            |219.169                    |Cuddle Up, Cozy Down Christmas                                                                                          |afrobeat, goth, disney, deep-house, emo                                                     |\n",
      "|2024-07-11  |british       |5           |3               |1014413.0           |338.1376666666667          |I Should Have Known Better - Remastered 2009, Am I Forgiven?, Run                                                       |anime, ambient, brazil, electro, alt-rock, guitar                                           |\n",
      "|2024-02-02  |detroit-techno|1           |1               |178432.0            |178.432                    |Aqua Jujidsu                                                                                                            |brazil, chicago-house, comedy, ambient, emo                                                 |\n",
      "|2024-03-23  |club          |3           |3               |613153.0            |204.38433333333333         |Sector, Reset, She                                                                                                      |bluegrass, happy, cantopop, detroit-techno, chill                                           |\n",
      "|2024-11-03  |ambient       |7           |5               |2458596.0           |491.7192                   |Weightless, What Gently Flutters, Shiver, Viva Vida Amor - Solo Piano Version, Flying Carpet                            |brazil, guitar, afrobeat, dance, ambient, club, children                                    |\n",
      "|2024-01-10  |anime         |6           |5               |1141817.0           |228.36339999999998         |Voices of the Chord, Gurenge Lofi (Demon Slayer), オレンジ, swordland, Yellow Flash (Minato Rap)                        |black-metal, anime, breakbeat, cantopop, afrobeat, guitar                                   |\n",
      "+------------+--------------+------------+----------------+--------------------+---------------------------+------------------------------------------------------------------------------------------------------------------------+--------------------------------------------------------------------------------------------+\n",
      "only showing top 20 rows\n",
      "\n"
     ]
    }
   ],
   "source": [
    "# Add a date column\n",
    "song_users = song_users.withColumn(\"created_date\", F.to_date(\"created_at\"))\n",
    "\n",
    "# 1. Daily Genre-Level KPIs\n",
    "# Listen count, unique listeners, total listening time, average listening time per user\n",
    "kpis = song_users.groupBy(\"created_date\", \"track_genre\").agg(\n",
    "    F.count(\"track_id\").alias(\"listen_count\"),\n",
    "    F.countDistinct(\"user_id\").alias(\"unique_listeners\"),\n",
    "    F.sum(\"duration_ms\").alias(\"total_listening_time\")\n",
    ").withColumn(\n",
    "    \"avg_listening_time_per_user\", \n",
    "    F.col(\"total_listening_time\") / F.col(\"unique_listeners\") / 1000  # converting ms to seconds\n",
    ")\n",
    "\n",
    "# 2. Top 3 Songs per Genre per Day\n",
    "song_counts = song_users.groupBy(\"created_date\", \"track_genre\", \"track_name\").agg(\n",
    "    F.count(\"track_id\").alias(\"listen_count\")\n",
    ")\n",
    "\n",
    "song_rank_window = Window.partitionBy(\"created_date\", \"track_genre\").orderBy(F.desc(\"listen_count\"))\n",
    "\n",
    "ranked_songs = song_counts.withColumn(\"rank\", F.rank().over(song_rank_window)).filter(F.col(\"rank\") <= 3)\n",
    "\n",
    "# Aggregate top 3 songs into a single string per genre per day\n",
    "top3_songs_per_genre = ranked_songs.groupBy(\"created_date\", \"track_genre\").agg(\n",
    "    F.concat_ws(\", \", F.collect_list(\"track_name\")).alias(\"top_3_songs\")\n",
    ")\n",
    "\n",
    "# 3. Top 5 Genres per Day\n",
    "genre_counts_per_day = song_users.groupBy(\"created_date\", \"track_genre\").agg(\n",
    "    F.count(\"track_id\").alias(\"genre_listen_count\")\n",
    ")\n",
    "\n",
    "genre_rank_window = Window.partitionBy(\"created_date\").orderBy(F.desc(\"genre_listen_count\"))\n",
    "\n",
    "ranked_genres = genre_counts_per_day.withColumn(\"rank\", F.rank().over(genre_rank_window)).filter(F.col(\"rank\") <= 5)\n",
    "\n",
    "# Aggregate top 5 genres into a single string per day\n",
    "top5_genres_per_day = ranked_genres.groupBy(\"created_date\").agg(\n",
    "    F.concat_ws(\", \", F.collect_list(\"track_genre\")).alias(\"top_5_genres\")\n",
    ")\n",
    "\n",
    "# Join all results\n",
    "final_kpis = kpis \\\n",
    "    .join(top3_songs_per_genre, [\"created_date\", \"track_genre\"], \"left\") \\\n",
    "    .join(top5_genres_per_day, \"created_date\", \"left\")\n",
    "\n",
    "# Show final daily genre-level KPIs\n",
    "final_kpis.show(truncate=False)\n"
   ]
  },
  {
   "cell_type": "code",
   "execution_count": 83,
   "metadata": {},
   "outputs": [
    {
     "name": "stdout",
     "output_type": "stream",
     "text": [
      "+------------+-------------+------------+----------------+--------------------+---------------------------+-----------------------------------------------------------------------------+--------------------------------------------------------------------------------------------------------------------------------------------------------------------------------------------------------+\n",
      "|created_date|track_genre  |listen_count|unique_listeners|total_listening_time|avg_listening_time_per_user|top_3_songs                                                                  |top_5_genres                                                                                                                                                                                            |\n",
      "+------------+-------------+------------+----------------+--------------------+---------------------------+-----------------------------------------------------------------------------+--------------------------------------------------------------------------------------------------------------------------------------------------------------------------------------------------------+\n",
      "|2024-07-25  |dance        |2           |2               |362708.0            |181.354                    |Left and Right, In Your Eyes                                                 |death-metal, dancehall, new-age, children, folk, progressive-house, turkish, malay, trip-hop                                                                                                            |\n",
      "|2024-08-11  |heavy-metal  |2           |2               |270479.0            |135.2395                   |1976, Voy a Enloquecer                                                       |club, study, drum-and-bass, metalcore, honky-tonk, emo, breakbeat, british, j-idol, latino                                                                                                              |\n",
      "|2024-08-12  |sleep        |3           |3               |439682.0            |146.56066666666666         |Loopable Owls, Ljusa Drömmar, Pomalu                                        |sleep, hard-rock, anime, heavy-metal, study                                                                                                                                                             |\n",
      "|2024-07-26  |tango        |2           |2               |333812.0            |166.906                    |Milonga de la puteada, Kulkurin Saappaat                                     |ambient, forro, rock-n-roll, malay, study                                                                                                                                                               |\n",
      "|2024-03-25  |latin        |1           |1               |213061.0            |213.061                    |Efecto                                                                       |children, deep-house, tango, blues, mandopop, kids, drum-and-bass                                                                                                                                       |\n",
      "|2024-10-05  |drum-and-bass|1           |1               |265257.0            |265.257                    |Mercy                                                                        |study, black-metal, club, german, deep-house, goth, latin, ambient, hip-hop, dance, country, acoustic, tango, detroit-techno, funk, soul, hardstyle, gospel                                             |\n",
      "|2024-02-16  |classical    |1           |1               |78800.0             |78.8                       |Ascanio in Alba, K.111 / Part 1: Andante grazioso                            |comedy, metalcore, chill, j-dance, sleep, disco, emo, mandopop, edm, latin, industrial, chicago-house, anime, minimal-techno                                                                            |\n",
      "|2024-03-18  |new-age      |2           |2               |376802.0            |188.401                    |If I Fell (In Love with You), Your Love                                      |mpb, black-metal, comedy, children, new-age, punk-rock, idm, power-pop, rock-n-roll, sad, death-metal, tango, honky-tonk, heavy-metal, anime, forro, mandopop, world-music, romance, bluegrass, afrobeat|\n",
      "|2024-02-22  |turkish      |1           |1               |134205.0            |134.205                    |PARASIZ İNSAN ÇÖPLÜĞÜ                                                        |cantopop, french, country, club, chill                                                                                                                                                                  |\n",
      "|2024-08-05  |salsa        |2           |2               |433493.0            |216.7465                   |No La He Vuelto A Ver, Juanita Bonita                                        |german, blues, turkish, country, garage, cantopop                                                                                                                                                       |\n",
      "|2024-11-02  |british      |1           |1               |233413.0            |233.413                    |One More Night                                                               |ambient, death-metal, disco, rockabilly, honky-tonk, pop-film, forro, happy                                                                                                                             |\n",
      "|2024-04-18  |k-pop        |1           |1               |318427.0            |318.427                    |Pinju Pinju Mazhai                                                           |goth, turkish, disco, breakbeat, trance                                                                                                                                                                 |\n",
      "|2024-01-22  |anime        |2           |2               |407393.0            |203.6965                   |Intro : Walk the Line, 平行線                                                |industrial, forro, world-music, indie-pop, show-tunes, classical, grunge                                                                                                                                |\n",
      "|2024-12-26  |indie-pop    |1           |1               |201426.0            |201.426                    |Can't Get Enough (feat. Iceberg Slimm)                                       |breakbeat, alt-rock, bluegrass, trip-hop, samba, j-dance, latin, dancehall, punk, guitar, synth-pop, hardstyle, goth, british, ambient                                                                  |\n",
      "|2024-07-11  |emo          |1           |1               |160506.0            |160.506                    |FUXK (feat. Ski Mask the Slump God)                                          |pagode, children, garage, chicago-house, disco, minimal-techno, kids, j-idol, sleep, acoustic, french                                                                                                   |\n",
      "|2024-09-30  |mpb          |1           |1               |206573.0            |206.573                    |Entreolhares (The Way You're Looking at Me) (feat. John Legend)              |industrial, dub, j-dance, trance, punk-rock, emo, breakbeat, electronic, afrobeat                                                                                                                       |\n",
      "|2024-08-20  |garage       |1           |1               |176399.0            |176.399                    |Don't Mug Yourself - Video Edit                                              |goth, punk-rock, acoustic, french, funk                                                                                                                                                                 |\n",
      "|2024-03-14  |heavy-metal  |3           |3               |1069373.0           |356.4576666666667          |呪いのシャ・ナ・ナ・ナ, Si Puedes Vencer al Temor, Verte Sonreír            |heavy-metal, afrobeat, study, hardcore, anime, garage, minimal-techno                                                                                                                                   |\n",
      "|2024-10-28  |industrial   |4           |4               |1318812.0           |329.703                    |Nothing You Can Do, Arena, The Man Who Laughs - New Version, Sad Warrior Soul|industrial, british, disney, cantopop, emo, hardstyle, piano, dancehall, iranian, world-music, ambient, sleep, grunge                                                                                   |\n",
      "|2024-05-01  |j-pop        |3           |3               |690965.0            |230.32166666666666         |I Dream Of Christmas, The Christmas Song, Into The Night                     |dub, anime, acoustic, j-pop, punk-rock, brazil, children, pop-film, malay, garage, new-age, forro, trip-hop, pagode, rock-n-roll, progressive-house                                                     |\n",
      "+------------+-------------+------------+----------------+--------------------+---------------------------+-----------------------------------------------------------------------------+--------------------------------------------------------------------------------------------------------------------------------------------------------------------------------------------------------+\n",
      "only showing top 20 rows\n",
      "\n"
     ]
    }
   ],
   "source": [
    "# Add a date column\n",
    "data = data.withColumn(\"created_date\", F.to_date(\"created_at\"))\n",
    "\n",
    "# 1. Daily Genre-Level KPIs\n",
    "# Listen count, unique listeners, total listening time, average listening time per user\n",
    "kpis = data.groupBy(\"created_date\", \"track_genre\").agg(\n",
    "    F.count(\"track_id\").alias(\"listen_count\"),\n",
    "    F.countDistinct(\"user_id\").alias(\"unique_listeners\"),\n",
    "    F.sum(\"duration_ms\").alias(\"total_listening_time\")\n",
    ").withColumn(\n",
    "    \"avg_listening_time_per_user\", \n",
    "    F.col(\"total_listening_time\") / F.col(\"unique_listeners\") / 1000  # converting ms to seconds\n",
    ")\n",
    "\n",
    "# 2. Top 3 Songs per Genre per Day\n",
    "song_counts = data.groupBy(\"created_date\", \"track_genre\", \"track_name\").agg(\n",
    "    F.count(\"track_id\").alias(\"listen_count\")\n",
    ")\n",
    "\n",
    "song_rank_window = Window.partitionBy(\"created_date\", \"track_genre\").orderBy(F.desc(\"listen_count\"))\n",
    "\n",
    "ranked_songs = song_counts.withColumn(\"rank\", F.rank().over(song_rank_window)).filter(F.col(\"rank\") <= 3)\n",
    "\n",
    "# Aggregate top 3 songs into a single string per genre per day\n",
    "top3_songs_per_genre = ranked_songs.groupBy(\"created_date\", \"track_genre\").agg(\n",
    "    F.concat_ws(\", \", F.collect_list(\"track_name\")).alias(\"top_3_songs\")\n",
    ")\n",
    "\n",
    "# 3. Top 5 Genres per Day\n",
    "genre_counts_per_day = data.groupBy(\"created_date\", \"track_genre\").agg(\n",
    "    F.count(\"track_id\").alias(\"genre_listen_count\")\n",
    ")\n",
    "\n",
    "genre_rank_window = Window.partitionBy(\"created_date\").orderBy(F.desc(\"genre_listen_count\"))\n",
    "\n",
    "ranked_genres = genre_counts_per_day.withColumn(\"rank\", F.rank().over(genre_rank_window)).filter(F.col(\"rank\") <= 5)\n",
    "\n",
    "# Aggregate top 5 genres into a single string per day\n",
    "top5_genres_per_day = ranked_genres.groupBy(\"created_date\").agg(\n",
    "    F.concat_ws(\", \", F.collect_list(\"track_genre\")).alias(\"top_5_genres\")\n",
    ")\n",
    "\n",
    "# Join all results\n",
    "final_kpis = kpis \\\n",
    "    .join(top3_songs_per_genre, [\"created_date\", \"track_genre\"], \"left\") \\\n",
    "    .join(top5_genres_per_day, \"created_date\", \"left\")\n",
    "\n",
    "# Show final daily genre-level KPIs\n",
    "final_kpis.show(truncate=False)\n"
   ]
  }
 ],
 "metadata": {
  "kernelspec": {
   "display_name": "pyspark",
   "language": "python",
   "name": "python3"
  },
  "language_info": {
   "codemirror_mode": {
    "name": "ipython",
    "version": 3
   },
   "file_extension": ".py",
   "mimetype": "text/x-python",
   "name": "python",
   "nbconvert_exporter": "python",
   "pygments_lexer": "ipython3",
   "version": "3.13.0"
  }
 },
 "nbformat": 4,
 "nbformat_minor": 2
}
