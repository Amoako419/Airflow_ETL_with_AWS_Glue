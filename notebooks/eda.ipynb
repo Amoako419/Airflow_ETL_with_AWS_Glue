{
 "cells": [
  {
   "cell_type": "code",
   "execution_count": 1,
   "metadata": {},
   "outputs": [],
   "source": [
    "# import the PySpark module\n",
    "from pyspark.sql import SparkSession\n",
    "spark = SparkSession.builder.getOrCreate()\n",
    "from pyspark.sql.window import Window\n",
    "from pyspark.sql import functions as F"
   ]
  },
  {
   "cell_type": "code",
   "execution_count": 2,
   "metadata": {},
   "outputs": [
    {
     "data": {
      "text/html": [
       "\n",
       "            <div>\n",
       "                <p><b>SparkSession - in-memory</b></p>\n",
       "                \n",
       "        <div>\n",
       "            <p><b>SparkContext</b></p>\n",
       "\n",
       "            <p><a href=\"http://AMALITECH-PC-11075:4040\">Spark UI</a></p>\n",
       "\n",
       "            <dl>\n",
       "              <dt>Version</dt>\n",
       "                <dd><code>v3.5.3</code></dd>\n",
       "              <dt>Master</dt>\n",
       "                <dd><code>local[*]</code></dd>\n",
       "              <dt>AppName</dt>\n",
       "                <dd><code>pyspark-shell</code></dd>\n",
       "            </dl>\n",
       "        </div>\n",
       "        \n",
       "            </div>\n",
       "        "
      ],
      "text/plain": [
       "<pyspark.sql.session.SparkSession at 0x25449c996a0>"
      ]
     },
     "execution_count": 2,
     "metadata": {},
     "output_type": "execute_result"
    }
   ],
   "source": [
    "# initialize the SparkContext\n",
    "spark"
   ]
  },
  {
   "cell_type": "code",
   "execution_count": 67,
   "metadata": {},
   "outputs": [],
   "source": [
    "spark.conf.set('spark.sql.repl.eagerEval.enabled', True)"
   ]
  },
  {
   "cell_type": "code",
   "execution_count": 3,
   "metadata": {},
   "outputs": [],
   "source": [
    "# read the songs data from the CSV file\n",
    "songs = spark.read.csv('../data/songs/songs.csv', header=True, inferSchema=True)"
   ]
  },
  {
   "cell_type": "code",
   "execution_count": 4,
   "metadata": {},
   "outputs": [
    {
     "name": "stdout",
     "output_type": "stream",
     "text": [
      "+---+--------------------+--------------------+--------------------+--------------------+----------+-----------+--------+------------+------+---+--------+----+-----------+------------+----------------+--------+-------+-------+--------------+-----------+\n",
      "| id|            track_id|             artists|          album_name|          track_name|popularity|duration_ms|explicit|danceability|energy|key|loudness|mode|speechiness|acousticness|instrumentalness|liveness|valence|  tempo|time_signature|track_genre|\n",
      "+---+--------------------+--------------------+--------------------+--------------------+----------+-----------+--------+------------+------+---+--------+----+-----------+------------+----------------+--------+-------+-------+--------------+-----------+\n",
      "|  0|5SuOikwiRyPMVoIQD...|         Gen Hoshino|              Comedy|              Comedy|        73|     230666|   False|       0.676| 0.461|  1|  -6.746|   0|      0.143|      0.0322|         1.01E-6|   0.358|  0.715| 87.917|           4.0|   acoustic|\n",
      "|  1|4qPNDBW1i3p13qLCt...|        Ben Woodward|    Ghost (Acoustic)|    Ghost - Acoustic|        55|     149610|   False|        0.42| 0.166|  1| -17.235|   1|     0.0763|       0.924|         5.56E-6|   0.101|  0.267| 77.489|           4.0|   acoustic|\n",
      "|  2|1iJBSr7s7jYXzM8EG...|Ingrid Michaelson...|      To Begin Again|      To Begin Again|        57|     210826|   False|       0.438| 0.359|  0|  -9.734|   1|     0.0557|        0.21|             0.0|   0.117|   0.12| 76.332|           4.0|   acoustic|\n",
      "|  3|6lfxq3CG4xtTiEg7o...|        Kina Grannis|Crazy Rich Asians...|Can't Help Fallin...|        71|     201933|   False|       0.266|0.0596|  0| -18.515|   1|     0.0363|       0.905|         7.07E-5|   0.132|  0.143| 181.74|           3.0|   acoustic|\n",
      "|  4|5vjLSffimiIP26QG5...|    Chord Overstreet|             Hold On|             Hold On|        82|     198853|   False|       0.618| 0.443|  2|  -9.681|   1|     0.0526|       0.469|             0.0|  0.0829|  0.167|119.949|           4.0|   acoustic|\n",
      "|  5|01MVOl9KtVTNfFiBU...|        Tyrone Wells|Days I Will Remember|Days I Will Remember|        58|     214240|   False|       0.688| 0.481|  6|  -8.807|   1|      0.105|       0.289|             0.0|   0.189|  0.666| 98.017|           4.0|   acoustic|\n",
      "|  6|6Vc5wAMmXdKIAM7WU...|A Great Big World...|Is There Anybody ...|       Say Something|        74|     229400|   False|       0.407| 0.147|  2|  -8.822|   1|     0.0355|       0.857|         2.89E-6|  0.0913| 0.0765|141.284|           3.0|   acoustic|\n",
      "|  7|1EzrEOXmMH3G43AXT...|          Jason Mraz|We Sing. We Dance...|           I'm Yours|        80|     242946|   False|       0.703| 0.444| 11|  -9.331|   1|     0.0417|       0.559|             0.0|  0.0973|  0.712| 150.96|           4.0|   acoustic|\n",
      "|  8|0IktbUcnAGrvD03AW...|Jason Mraz;Colbie...|We Sing. We Dance...|               Lucky|        74|     189613|   False|       0.625| 0.414|  0|    -8.7|   1|     0.0369|       0.294|             0.0|   0.151|  0.669|130.088|           4.0|   acoustic|\n",
      "|  9|7k9GuJYLp2AzqokyE...|      Ross Copperman|              Hunger|              Hunger|        56|     205594|   False|       0.442| 0.632|  1|   -6.77|   1|     0.0295|       0.426|         0.00419|  0.0735|  0.196| 78.899|           4.0|   acoustic|\n",
      "+---+--------------------+--------------------+--------------------+--------------------+----------+-----------+--------+------------+------+---+--------+----+-----------+------------+----------------+--------+-------+-------+--------------+-----------+\n",
      "only showing top 10 rows\n",
      "\n"
     ]
    }
   ],
   "source": [
    "songs.show(10)"
   ]
  },
  {
   "cell_type": "code",
   "execution_count": 5,
   "metadata": {},
   "outputs": [],
   "source": [
    "# read the songs data from the CSV file\n",
    "users = spark.read.csv('../data/users/users.csv', header=True, inferSchema=True)"
   ]
  },
  {
   "cell_type": "code",
   "execution_count": 6,
   "metadata": {},
   "outputs": [
    {
     "name": "stdout",
     "output_type": "stream",
     "text": [
      "+-------+-----------------+--------+-------------+----------+\n",
      "|user_id|        user_name|user_age| user_country|created_at|\n",
      "+-------+-----------------+--------+-------------+----------+\n",
      "|      1|     Norma Fisher|      65|United States|2024-02-07|\n",
      "|      2|   Jorge Sullivan|      28|United States|2024-11-28|\n",
      "|      3|  Elizabeth Woods|      19|United States|2024-11-16|\n",
      "|      4|     Susan Wagner|      45|United States|2024-06-14|\n",
      "|      5| Peter Montgomery|      61|United States|2024-07-24|\n",
      "|      6| Theodore Mcgrath|      58|United States|2024-12-12|\n",
      "|      7|Stephanie Collins|      68|United States|2024-04-16|\n",
      "|      8| Stephanie Sutton|      53|United States|2024-05-04|\n",
      "|      9|   Brian Hamilton|      34|United States|2024-09-15|\n",
      "|     10|       Susan Levy|      18|United States|2024-09-08|\n",
      "+-------+-----------------+--------+-------------+----------+\n",
      "only showing top 10 rows\n",
      "\n"
     ]
    }
   ],
   "source": [
    "users.show(10)"
   ]
  },
  {
   "cell_type": "code",
   "execution_count": 7,
   "metadata": {},
   "outputs": [],
   "source": [
    "# read the streams data from the CSV file\n",
    "streams1 = spark.read.csv('../data/streams/streams1.csv', header=True, inferSchema=True)\n",
    "streams2 = spark.read.csv('../data/streams/streams2.csv', header=True, inferSchema=True)\n",
    "streams3 = spark.read.csv('../data/streams/streams3.csv', header=True, inferSchema=True)"
   ]
  },
  {
   "cell_type": "code",
   "execution_count": 8,
   "metadata": {},
   "outputs": [
    {
     "name": "stdout",
     "output_type": "stream",
     "text": [
      "+-------+--------------------+-------------------+\n",
      "|user_id|            track_id|        listen_time|\n",
      "+-------+--------------------+-------------------+\n",
      "|  26213|4dBa8T7oDV9WvGr7k...|2024-06-25 17:43:13|\n",
      "|   6937|4osgfFTICMkcGbbig...|2024-06-25 07:26:00|\n",
      "|  21407|2LoQWx41KeqOrSFra...|2024-06-25 13:25:26|\n",
      "|  47146|7cfG5lFeJWEgpSnub...|2024-06-25 18:17:50|\n",
      "|  38594|6tilCYbheGMHo3Hw4...|2024-06-25 17:33:21|\n",
      "|  14209|2QuOheWJqShIBIYC1...|2024-06-25 02:52:20|\n",
      "|  26986|6qBSGvyUzqNQv8Xtn...|2024-06-25 22:32:51|\n",
      "|   8173|1wXSL0SAzd7mX0LM8...|2024-06-25 11:59:10|\n",
      "|  12950|0L7Nv6ToXLRAWId4e...|2024-06-25 17:54:30|\n",
      "|   2898|7tnE9vy6FCRtbZql5...|2024-06-25 18:30:31|\n",
      "+-------+--------------------+-------------------+\n",
      "only showing top 10 rows\n",
      "\n"
     ]
    }
   ],
   "source": [
    "# concat the streams data\n",
    "streams = streams1.union(streams2).union(streams3)\n",
    "streams.show(10)\n"
   ]
  },
  {
   "cell_type": "code",
   "execution_count": 9,
   "metadata": {},
   "outputs": [],
   "source": [
    "# rename the first track_id column to avoid ambiguity\n",
    "streams = streams.withColumnRenamed(\"track_id\", \"track_id_1\")"
   ]
  },
  {
   "cell_type": "code",
   "execution_count": 10,
   "metadata": {},
   "outputs": [
    {
     "name": "stdout",
     "output_type": "stream",
     "text": [
      "+-------+------------------+--------------------+\n",
      "|summary|           user_id|          track_id_1|\n",
      "+-------+------------------+--------------------+\n",
      "|  count|             34038|               34038|\n",
      "|   mean|24934.808420001176|                NULL|\n",
      "| stddev|14444.125256146368|                NULL|\n",
      "|    min|                 3|0000vdREvCVMxbQTk...|\n",
      "|    max|             49999|7zxpdh3EqMq2JCkOI...|\n",
      "+-------+------------------+--------------------+\n",
      "\n"
     ]
    }
   ],
   "source": [
    "streams.describe().show()"
   ]
  },
  {
   "cell_type": "code",
   "execution_count": 11,
   "metadata": {},
   "outputs": [
    {
     "name": "stdout",
     "output_type": "stream",
     "text": [
      "+-------+-----------------+--------------------+------------------+----------------------------+--------------+------------------+--------------------+------------------+-----------------+--------------------+-----------------+------------------+----------------+------------------+-------------------+------------------+-----------------+-------------------+-----------------+------------------+------------------+\n",
      "|summary|               id|            track_id|           artists|                  album_name|    track_name|        popularity|         duration_ms|          explicit|     danceability|              energy|              key|          loudness|            mode|       speechiness|       acousticness|  instrumentalness|         liveness|            valence|            tempo|    time_signature|       track_genre|\n",
      "+-------+-----------------+--------------------+------------------+----------------------------+--------------+------------------+--------------------+------------------+-----------------+--------------------+-----------------+------------------+----------------+------------------+-------------------+------------------+-----------------+-------------------+-----------------+------------------+------------------+\n",
      "|  count|            89741|               89741|             89740|                       89740|         89740|             89741|               89741|             89741|            89741|               89741|            89741|             89741|           89741|             89741|              89741|             89741|            89741|              89741|            89741|             89741|             89741|\n",
      "|   mean|53479.14414815971|                NULL|          4425.775|                    Infinity|      Infinity|33.218531370995635|   228968.4900229639|164008.09174311926|39.77311613439367|   4.044996745550605| 7.12314423596407|2.0542242905856964|2.89385829386527|1.3271324102655435|0.32724658385956845|1.9883775972234554|3.377600199566883|0.46930670386676754|121.9193701217944|3.9940354443453945|23.083248458333333|\n",
      "| stddev|33409.98150200114|                NULL|14461.681191922153|                         NaN|           NaN|20.580922483320293|  113062.49229751206| 158943.2551850072| 3137.40901002627|   729.6975223646102|552.2772938129276|1942.6967524844183| 681.31219251588| 372.9886660028764| 0.3571049294161017| 543.4487205040567|692.9101724595571| 0.2692998643253719| 30.4185761185554| 3.347598907203215| 41.50450513962588|\n",
      "|    min|                0|0000vdREvCVMxbQTk...|            !nvite|        ! ! ! ! ! Whisper...| Live in Odeon|             Act 1|                Aida|              Aida|             Aida|                Aida|        Amneris)\"|              Aida|         Amneris|           Amneris|         Amonasro)\"|           -15.988|          -11.763|            -16.853|           -16.92|               0.0|           -12.753|\n",
      "|    max|           113999|7zz7iNGIWhmfFE7zl...|         龍藏Ryuzo|당신이 잠든 사이에 Pt. 4 ...| 행복하길 바래|           Zendani|The Song of the G...|              True|            False|Hearts And Soul -...|            False|             False|           False|             False|              False|          162800.0|            False|              False|          243.372|           182.016|       world-music|\n",
      "+-------+-----------------+--------------------+------------------+----------------------------+--------------+------------------+--------------------+------------------+-----------------+--------------------+-----------------+------------------+----------------+------------------+-------------------+------------------+-----------------+-------------------+-----------------+------------------+------------------+\n",
      "\n"
     ]
    }
   ],
   "source": [
    "songs.describe().show()"
   ]
  },
  {
   "cell_type": "code",
   "execution_count": 12,
   "metadata": {},
   "outputs": [
    {
     "name": "stdout",
     "output_type": "stream",
     "text": [
      "+-------+-----------------+--------------+------------------+-------------+\n",
      "|summary|          user_id|     user_name|          user_age| user_country|\n",
      "+-------+-----------------+--------------+------------------+-------------+\n",
      "|  count|            50000|         50000|             50000|        50000|\n",
      "|   mean|          25000.5|          NULL|          43.56998|         NULL|\n",
      "| stddev|14433.90106658626|          NULL|14.996324902949087|         NULL|\n",
      "|    min|                1|Aaron Alvarado|                18|    Australia|\n",
      "|    max|            50000|   Zoe Walters|                69|United States|\n",
      "+-------+-----------------+--------------+------------------+-------------+\n",
      "\n"
     ]
    }
   ],
   "source": [
    "users.describe().show()"
   ]
  },
  {
   "cell_type": "code",
   "execution_count": 13,
   "metadata": {},
   "outputs": [
    {
     "name": "stdout",
     "output_type": "stream",
     "text": [
      "+---+--------------------+--------------------+--------------------+--------------------+----------+-----------+--------+------------+------+---+--------+----+-----------+------------+----------------+--------+-------+-------+--------------+-----------+--------------+--------------------+-------------------+------------+-----------------+--------+-------------+----------+\n",
      "| id|            track_id|             artists|          album_name|          track_name|popularity|duration_ms|explicit|danceability|energy|key|loudness|mode|speechiness|acousticness|instrumentalness|liveness|valence|  tempo|time_signature|track_genre|stream_user_id|          track_id_1|        listen_time|user_user_id|        user_name|user_age| user_country|created_at|\n",
      "+---+--------------------+--------------------+--------------------+--------------------+----------+-----------+--------+------------+------+---+--------+----+-----------+------------+----------------+--------+-------+-------+--------------+-----------+--------------+--------------------+-------------------+------------+-----------------+--------+-------------+----------+\n",
      "|  9|7k9GuJYLp2AzqokyE...|      Ross Copperman|              Hunger|              Hunger|        56|     205594|   False|       0.442| 0.632|  1|   -6.77|   1|     0.0295|       0.426|         0.00419|  0.0735|  0.196| 78.899|           4.0|   acoustic|         46202|7k9GuJYLp2AzqokyE...|2024-06-25 11:48:48|       46202|  Jonathan Chaney|      43|United States|2024-10-24|\n",
      "| 10|4mzP5mHkRvGxdhdGd...|        Zack Tabudlo|             Episode|Give Me Your Forever|        74|     244800|   False|       0.627| 0.363|  8|  -8.127|   1|     0.0291|       0.279|             0.0|  0.0928|  0.301| 99.905|           4.0|   acoustic|         36607|4mzP5mHkRvGxdhdGd...|2024-06-25 10:04:23|       36607|       Faith Lutz|      19|United States|2024-01-27|\n",
      "| 13|0X9MxHR1rTkEHDjp9...|       Anna Hamilton|            Bad Liar|            Bad Liar|        62|     248448|   False|       0.691| 0.234|  3|  -6.441|   1|     0.0285|       0.777|             0.0|    0.12|  0.209| 87.103|           4.0|   acoustic|         38018|0X9MxHR1rTkEHDjp9...|2024-06-25 19:17:50|       38018|      Dylan Reyes|      39|United States|2024-11-06|\n",
      "| 15|1KHdq8NK9QxnGjdXb...|         Landon Pigg|   The Boy Who Never|Falling in Love a...|        58|     244986|   False|       0.489| 0.561|  4|  -7.933|   1|     0.0274|         0.2|         4.56E-5|   0.179|  0.238| 83.457|           3.0|   acoustic|         37472|1KHdq8NK9QxnGjdXb...|2024-06-25 09:54:25|       37472| Stanley Williams|      64|United States|2024-03-28|\n",
      "| 16|6xKeQgzfjixSUld14...|Andrew Foy;Renee Foy|ily (i love you b...|ily (i love you b...|        56|     129750|   False|       0.706| 0.112|  2| -18.098|   1|     0.0391|       0.827|         4.03E-6|   0.125|  0.414|110.154|           4.0|   acoustic|         46883|6xKeQgzfjixSUld14...|2024-06-25 06:59:42|       46883|    Zachary Smith|      68|United States|2024-05-16|\n",
      "| 17|4Yo0igmcoNyat1sec...|Andrew Foy;Renee Foy|         At My Worst|         At My Worst|        54|     169728|   False|       0.795|0.0841| 10|  -18.09|   0|     0.0461|       0.742|         1.17E-5|  0.0853|  0.609| 91.803|           4.0|   acoustic|         11243|4Yo0igmcoNyat1sec...|2024-06-25 21:28:32|       11243|     Mario Newton|      19|United States|2024-09-25|\n",
      "| 18|2qLMf6TuEC3ruGJg4...|Jason Mraz;Colbie...|We Sing. We Dance...|               Lucky|        68|     189613|   False|       0.625| 0.414|  0|    -8.7|   1|     0.0369|       0.294|             0.0|   0.151|  0.669|130.088|           4.0|   acoustic|         30468|2qLMf6TuEC3ruGJg4...|2024-06-25 05:31:53|       30468|      Omar Morris|      37|United States|2024-10-26|\n",
      "| 19|6CgNoAbFJ4Q4Id4Ej...|Boyce Avenue;Bea ...|Cover Sessions, V...|          Photograph|        67|     260186|   False|       0.717|  0.32|  3|  -8.393|   1|     0.0283|        0.83|             0.0|   0.107|  0.322|107.946|           4.0|   acoustic|         39085|6CgNoAbFJ4Q4Id4Ej...|2024-06-25 12:02:00|       39085|      Juan Miller|      45|United States|2024-02-27|\n",
      "| 21|210JCw2LbYD4YIs8G...|Boyce Avenue;Jenn...|Cover Sessions, V...|              Demons|        63|     174174|   False|       0.678| 0.351|  0|  -8.654|   1|     0.0266|       0.747|             0.0|   0.355|  0.569| 90.032|           4.0|   acoustic|         41935|210JCw2LbYD4YIs8G...|2024-06-25 16:37:41|       41935|    Vanessa Myers|      29|United States|2024-05-17|\n",
      "| 26|5IfCZDRXZrqZSm8Aw...|          Jason Mraz|Holly Jolly Chris...|   Winter Wonderland|         0|     131760|   False|        0.62| 0.309|  5|  -9.209|   1|     0.0495|       0.788|             0.0|   0.146|  0.664|145.363|           4.0|   acoustic|         14387|5IfCZDRXZrqZSm8Aw...|2024-06-25 04:00:59|       14387|   Melissa Horton|      67|United States|2024-05-20|\n",
      "| 26|5IfCZDRXZrqZSm8Aw...|          Jason Mraz|Holly Jolly Chris...|   Winter Wonderland|         0|     131760|   False|        0.62| 0.309|  5|  -9.209|   1|     0.0495|       0.788|             0.0|   0.146|  0.664|145.363|           4.0|   acoustic|          9064|5IfCZDRXZrqZSm8Aw...|2024-06-25 09:35:48|        9064|      Jason Brown|      37|  New Zealand|2024-08-20|\n",
      "| 29|2qESE1ZeWly7I3Yjy...|          Jason Mraz|Perfect Christmas...|   Winter Wonderland|         0|     131760|   False|        0.62| 0.309|  5|  -9.209|   1|     0.0495|       0.788|             0.0|   0.146|  0.664|145.363|           4.0|   acoustic|         14598|2qESE1ZeWly7I3Yjy...|2024-06-25 06:28:20|       14598|Jennifer Anderson|      43|United States|2024-11-10|\n",
      "| 29|2qESE1ZeWly7I3Yjy...|          Jason Mraz|Perfect Christmas...|   Winter Wonderland|         0|     131760|   False|        0.62| 0.309|  5|  -9.209|   1|     0.0495|       0.788|             0.0|   0.146|  0.664|145.363|           4.0|   acoustic|         28775|2qESE1ZeWly7I3Yjy...|2024-06-25 16:02:14|       28775|     Timothy Todd|      69|United States|2024-03-02|\n",
      "| 36|62EwQLDw0dprDzuLw...|         KT Tunstall|Chill Christmas D...|Lonely This Chris...|         0|     257493|   False|       0.409| 0.153|  6|  -10.74|   0|     0.0306|       0.939|         2.56E-5|   0.108|   0.18| 85.262|           4.0|   acoustic|          6327|62EwQLDw0dprDzuLw...|2024-06-25 07:11:26|        6327|       Dean Gibbs|      56|United States|2024-12-17|\n",
      "| 37|3lvo0I8c2qBJDLZWq...|      Brandi Carlile|     rainy day indie|Throwing Good Aft...|         0|     247791|   False|       0.501|0.0952|  2| -12.931|   1|      0.054|       0.963|         1.58E-5|  0.0915|  0.316|138.016|           4.0|   acoustic|          5959|3lvo0I8c2qBJDLZWq...|2024-06-25 02:46:29|        5959|   Gabriel Bowman|      41|United States|2024-05-26|\n",
      "| 37|3lvo0I8c2qBJDLZWq...|      Brandi Carlile|     rainy day indie|Throwing Good Aft...|         0|     247791|   False|       0.501|0.0952|  2| -12.931|   1|      0.054|       0.963|         1.58E-5|  0.0915|  0.316|138.016|           4.0|   acoustic|         24569|3lvo0I8c2qBJDLZWq...|2024-06-25 04:38:48|       24569|       Roger Long|      30|United States|2024-09-16|\n",
      "| 38|1ae8XfBQ3fDEvmBjF...|      Brandi Carlile|       Coffee Moment|  This Time Tomorrow|         0|     206267|   False|       0.606| 0.326| 10| -10.031|   1|     0.0294|       0.841|             0.0|   0.139|  0.414| 91.626|           4.0|   acoustic|          6140|1ae8XfBQ3fDEvmBjF...|2024-06-25 12:27:53|        6140|     Jennifer Day|      58|United States|2024-03-21|\n",
      "| 43|1MLr9b1fOybO3MGiL...|Brandi Carlile;Lu...|  Country Road Songs|You and Me on the...|         0|     230098|   False|       0.568| 0.686|  1|  -6.635|   1|      0.033|        0.15|         1.81E-6|  0.0881|  0.725|172.075|           4.0|   acoustic|         28308|1MLr9b1fOybO3MGiL...|2024-06-25 10:04:47|       28308|    Bradley Hodge|      18|United States|2024-05-07|\n",
      "| 45|7Af2YlwMZryKOQiRf...|Brandi Carlile;Lu...|        Easy Country|You and Me on the...|         0|     230098|   False|       0.568| 0.686|  1|  -6.635|   1|      0.033|        0.15|         1.81E-6|  0.0881|  0.725|172.075|           4.0|   acoustic|         35128|7Af2YlwMZryKOQiRf...|2024-06-25 03:45:34|       35128|   Devin Jennings|      53|United States|2024-12-22|\n",
      "| 46|3RE5nHIVkC4KcA7sn...|Brandi Carlile;Lu...|        Cozy Country|You and Me on the...|         0|     230098|   False|       0.568| 0.686|  1|  -6.635|   1|      0.033|        0.15|         1.81E-6|  0.0881|  0.725|172.075|           4.0|   acoustic|         13146|3RE5nHIVkC4KcA7sn...|2024-06-25 08:32:12|       13146| Daniel Rodriguez|      54|United States|2024-02-18|\n",
      "+---+--------------------+--------------------+--------------------+--------------------+----------+-----------+--------+------------+------+---+--------+----+-----------+------------+----------------+--------+-------+-------+--------------+-----------+--------------+--------------------+-------------------+------------+-----------------+--------+-------------+----------+\n",
      "only showing top 20 rows\n",
      "\n"
     ]
    }
   ],
   "source": [
    "song_users = songs.join(streams, songs.track_id == streams.track_id_1, 'inner') \\\n",
    "                  .join(users, streams.user_id == users.user_id, 'inner') \\\n",
    "                  .select(songs['*'], \n",
    "                         streams.user_id.alias('stream_user_id'), \n",
    "                         streams.track_id_1, \n",
    "                         streams.listen_time,\n",
    "                         users.user_id.alias('user_user_id'),\n",
    "                         users.user_name,\n",
    "                         users.user_age,\n",
    "                         users.user_country,\n",
    "                         users.created_at)\n",
    "\n",
    "song_users.show()"
   ]
  },
  {
   "cell_type": "code",
   "execution_count": 14,
   "metadata": {},
   "outputs": [
    {
     "name": "stdout",
     "output_type": "stream",
     "text": [
      "+-------+------------------+--------------------+------------------+----------------------------+--------------+------------------+--------------------+------------------+-----------------+-------------------+------------------+------------------+------------------+-------------------+------------------+-------------------+-----------------+------------------+------------------+------------------+------------------+------------------+--------------------+------------------+--------------+------------------+-------------+\n",
      "|summary|                id|            track_id|           artists|                  album_name|    track_name|        popularity|         duration_ms|          explicit|     danceability|             energy|               key|          loudness|              mode|        speechiness|      acousticness|   instrumentalness|         liveness|           valence|             tempo|    time_signature|       track_genre|    stream_user_id|          track_id_1|      user_user_id|     user_name|          user_age| user_country|\n",
      "+-------+------------------+--------------------+------------------+----------------------------+--------------+------------------+--------------------+------------------+-----------------+-------------------+------------------+------------------+------------------+-------------------+------------------+-------------------+-----------------+------------------+------------------+------------------+------------------+------------------+--------------------+------------------+--------------+------------------+-------------+\n",
      "|  count|             34038|               34038|             34038|                       34038|         34038|             34038|               34038|             34038|            34038|              34038|             34038|             34038|             34038|              34038|             34038|              34038|            34038|             34038|             34038|             34038|             34038|             34038|               34038|             34038|         34038|             34038|        34038|\n",
      "|   mean|53494.459839003466|                NULL|1910.4736842105262|                    Infinity|      Infinity|33.312016245327996|  228878.85959961195|152401.56603773584|70.05076395246215| 0.6340410802992449|14.957939621870963|2.5555340913765523| 6.613026325841047|0.07867734163826555| 0.331133708189325|0.17236213030230937|5.493566140361059|0.4687698460587015|122.00452908220208| 4.013293014336917| 28.10523728813559|24934.808420001176|                NULL|24934.808420001176|          NULL|43.530612844467946|         NULL|\n",
      "| stddev|33534.417709983536|                NULL|1514.9317318106396|                         NaN|           NaN| 20.63792648897102|  115292.61464333773|136968.94265763447|4519.231875330162|0.31672755508175504|1268.1419050419402|1440.1786657342764|1106.2774437089706| 0.5022312309086429|0.3394413271230112| 0.3719183986568805|973.6136847712586|0.2792753455428817| 30.38000601909812|3.7126398021709353|45.807015926767555| 14444.12525614637|                NULL| 14444.12525614637|          NULL|14.994211653012623|         NULL|\n",
      "|    min|                 9|0000vdREvCVMxbQTk...|            !nvite|        \"! !\"\"#Reboot#\"\"! !\"| Live in Odeon|             Act 1|                Aida|              Aida|          Amneris|               Aida|         Amneris)\"|              Aida|           Radamès|            Amneris|        Amonasro)\"|            -15.988|          -11.763|           -16.853|               0.0|               0.0|             0.159|                 3|0000vdREvCVMxbQTk...|                 3|Aaron Alvarado|                18|    Australia|\n",
      "|    max|            113996|7zxpdh3EqMq2JCkOI...|            黃敏華|당신이 잠든 사이에 Pt. 4 ...| 행복하길 바래|          The Wait|The Song of the G...|              True|            False|              False|                 9|             False|             False|              False|             9e-05|               22.0|         9.71e-06|             False|           220.525|           182.016|       world-music|             49999|7zxpdh3EqMq2JCkOI...|             49999|    Zoe Newman|                69|United States|\n",
      "+-------+------------------+--------------------+------------------+----------------------------+--------------+------------------+--------------------+------------------+-----------------+-------------------+------------------+------------------+------------------+-------------------+------------------+-------------------+-----------------+------------------+------------------+------------------+------------------+------------------+--------------------+------------------+--------------+------------------+-------------+\n",
      "\n"
     ]
    }
   ],
   "source": [
    "song_users.describe().show()"
   ]
  },
  {
   "cell_type": "code",
   "execution_count": 15,
   "metadata": {},
   "outputs": [
    {
     "data": {
      "text/plain": [
       "['id',\n",
       " 'track_id',\n",
       " 'artists',\n",
       " 'album_name',\n",
       " 'track_name',\n",
       " 'popularity',\n",
       " 'duration_ms',\n",
       " 'explicit',\n",
       " 'danceability',\n",
       " 'energy',\n",
       " 'key',\n",
       " 'loudness',\n",
       " 'mode',\n",
       " 'speechiness',\n",
       " 'acousticness',\n",
       " 'instrumentalness',\n",
       " 'liveness',\n",
       " 'valence',\n",
       " 'tempo',\n",
       " 'time_signature',\n",
       " 'track_genre',\n",
       " 'stream_user_id',\n",
       " 'track_id_1',\n",
       " 'listen_time',\n",
       " 'user_user_id',\n",
       " 'user_name',\n",
       " 'user_age',\n",
       " 'user_country',\n",
       " 'created_at']"
      ]
     },
     "execution_count": 15,
     "metadata": {},
     "output_type": "execute_result"
    }
   ],
   "source": [
    "song_users.columns"
   ]
  },
  {
   "cell_type": "code",
   "execution_count": 16,
   "metadata": {},
   "outputs": [
    {
     "name": "stdout",
     "output_type": "stream",
     "text": [
      "+-------------+----------+------------+\n",
      "|  track_genre|      date|listen_count|\n",
      "+-------------+----------+------------+\n",
      "|     acoustic|2024-05-20|           1|\n",
      "|     acoustic|2024-08-13|           2|\n",
      "|     afrobeat|2024-11-23|           3|\n",
      "|     alt-rock|2024-06-03|           1|\n",
      "|     alt-rock|2024-09-25|           2|\n",
      "|      ambient|2024-11-06|           1|\n",
      "|      ambient|2024-08-08|           1|\n",
      "|  black-metal|2024-04-10|           3|\n",
      "|    bluegrass|2024-04-22|           1|\n",
      "|     cantopop|2024-02-26|           2|\n",
      "|     cantopop|2024-04-11|           1|\n",
      "|     cantopop|2024-01-06|           2|\n",
      "|chicago-house|2024-06-27|           1|\n",
      "|chicago-house|2024-02-08|           1|\n",
      "|     children|2024-02-03|           1|\n",
      "|        chill|2024-11-07|           1|\n",
      "|    classical|2024-03-12|           1|\n",
      "|         club|2024-08-24|           1|\n",
      "|         club|2024-02-03|           2|\n",
      "|       comedy|2024-03-19|           2|\n",
      "+-------------+----------+------------+\n",
      "only showing top 20 rows\n",
      "\n"
     ]
    }
   ],
   "source": [
    "listen_count = song_users.groupBy(\"track_genre\", F.to_date(\"created_at\").alias(\"date\")) \\\n",
    "                 .agg(F.count(\"track_id\").alias(\"listen_count\"))\n",
    "listen_count.show()"
   ]
  },
  {
   "cell_type": "code",
   "execution_count": 17,
   "metadata": {},
   "outputs": [
    {
     "data": {
      "text/plain": [
       "['id',\n",
       " 'track_id',\n",
       " 'artists',\n",
       " 'album_name',\n",
       " 'track_name',\n",
       " 'popularity',\n",
       " 'duration_ms',\n",
       " 'explicit',\n",
       " 'danceability',\n",
       " 'energy',\n",
       " 'key',\n",
       " 'loudness',\n",
       " 'mode',\n",
       " 'speechiness',\n",
       " 'acousticness',\n",
       " 'instrumentalness',\n",
       " 'liveness',\n",
       " 'valence',\n",
       " 'tempo',\n",
       " 'time_signature',\n",
       " 'track_genre',\n",
       " 'stream_user_id',\n",
       " 'track_id_1',\n",
       " 'listen_time',\n",
       " 'user_user_id',\n",
       " 'user_name',\n",
       " 'user_age',\n",
       " 'user_country',\n",
       " 'created_at']"
      ]
     },
     "execution_count": 17,
     "metadata": {},
     "output_type": "execute_result"
    }
   ],
   "source": [
    "song_users.columns"
   ]
  },
  {
   "cell_type": "code",
   "execution_count": 18,
   "metadata": {},
   "outputs": [
    {
     "name": "stdout",
     "output_type": "stream",
     "text": [
      "+-------------+----------+----------------+\n",
      "|  track_genre|      date|unique_listeners|\n",
      "+-------------+----------+----------------+\n",
      "|         club|2024-02-03|               2|\n",
      "|     afrobeat|2024-11-23|               3|\n",
      "|chicago-house|2024-02-08|               1|\n",
      "|        anime|2024-08-24|               2|\n",
      "|     cantopop|2024-02-26|               2|\n",
      "|    classical|2024-03-12|               1|\n",
      "|        dance|2024-04-11|               2|\n",
      "|     cantopop|2024-01-06|               2|\n",
      "|     acoustic|2024-05-20|               1|\n",
      "|    bluegrass|2024-04-22|               1|\n",
      "|        anime|2024-11-02|               1|\n",
      "|     children|2024-02-03|               1|\n",
      "|chicago-house|2024-06-27|               1|\n",
      "|     acoustic|2024-08-13|               2|\n",
      "|        chill|2024-11-07|               1|\n",
      "|     alt-rock|2024-09-25|               2|\n",
      "|      country|2024-05-18|               1|\n",
      "|  black-metal|2024-04-10|               3|\n",
      "|     alt-rock|2024-06-03|               1|\n",
      "|       comedy|2024-02-13|               2|\n",
      "+-------------+----------+----------------+\n",
      "only showing top 20 rows\n",
      "\n"
     ]
    }
   ],
   "source": [
    "unique_listeners = song_users.groupBy(\"track_genre\", F.to_date(\"created_at\").alias(\"date\")) \\\n",
    "                     .agg(F.countDistinct(\"user_user_id\").alias(\"unique_listeners\"))\n",
    "unique_listeners.show()"
   ]
  },
  {
   "cell_type": "code",
   "execution_count": 19,
   "metadata": {},
   "outputs": [
    {
     "name": "stdout",
     "output_type": "stream",
     "text": [
      "+-------------+----------+--------------------+\n",
      "|  track_genre|      date|total_listening_time|\n",
      "+-------------+----------+--------------------+\n",
      "|     acoustic|2024-05-20|            131760.0|\n",
      "|     acoustic|2024-08-13|            587081.0|\n",
      "|     afrobeat|2024-11-23|            677106.0|\n",
      "|     alt-rock|2024-06-03|            239373.0|\n",
      "|     alt-rock|2024-09-25|            412917.0|\n",
      "|      ambient|2024-11-06|            204000.0|\n",
      "|      ambient|2024-08-08|            273466.0|\n",
      "|  black-metal|2024-04-10|            821937.0|\n",
      "|    bluegrass|2024-04-22|            177946.0|\n",
      "|     cantopop|2024-02-26|            444346.0|\n",
      "|     cantopop|2024-04-11|            230613.0|\n",
      "|     cantopop|2024-01-06|            546319.0|\n",
      "|chicago-house|2024-06-27|            469294.0|\n",
      "|chicago-house|2024-02-08|            244218.0|\n",
      "|     children|2024-02-03|            131897.0|\n",
      "|        chill|2024-11-07|             97050.0|\n",
      "|    classical|2024-03-12|            182158.0|\n",
      "|         club|2024-08-24|            116210.0|\n",
      "|         club|2024-02-03|            439329.0|\n",
      "|       comedy|2024-03-19|            376649.0|\n",
      "+-------------+----------+--------------------+\n",
      "only showing top 20 rows\n",
      "\n"
     ]
    }
   ],
   "source": [
    "total_listening_time = song_users.groupBy(\"track_genre\", F.to_date(\"created_at\").alias(\"date\")) \\\n",
    "                         .agg(F.sum(\"duration_ms\").alias(\"total_listening_time\"))\n",
    "total_listening_time.show()"
   ]
  },
  {
   "cell_type": "code",
   "execution_count": 20,
   "metadata": {},
   "outputs": [
    {
     "name": "stdout",
     "output_type": "stream",
     "text": [
      "+-------------+----------+--------------------+----------------+---------------------------+\n",
      "|  track_genre|      date|total_listening_time|unique_listeners|avg_listening_time_per_user|\n",
      "+-------------+----------+--------------------+----------------+---------------------------+\n",
      "|         club|2024-02-03|            439329.0|               2|                   219664.5|\n",
      "|     afrobeat|2024-11-23|            677106.0|               3|                   225702.0|\n",
      "|chicago-house|2024-02-08|            244218.0|               1|                   244218.0|\n",
      "|        anime|2024-08-24|            391406.0|               2|                   195703.0|\n",
      "|     cantopop|2024-02-26|            444346.0|               2|                   222173.0|\n",
      "|    classical|2024-03-12|            182158.0|               1|                   182158.0|\n",
      "|        dance|2024-04-11|            390530.0|               2|                   195265.0|\n",
      "|     cantopop|2024-01-06|            546319.0|               2|                   273159.5|\n",
      "|     acoustic|2024-05-20|            131760.0|               1|                   131760.0|\n",
      "|    bluegrass|2024-04-22|            177946.0|               1|                   177946.0|\n",
      "|        anime|2024-11-02|            169097.0|               1|                   169097.0|\n",
      "|     children|2024-02-03|            131897.0|               1|                   131897.0|\n",
      "|chicago-house|2024-06-27|            469294.0|               1|                   469294.0|\n",
      "|     acoustic|2024-08-13|            587081.0|               2|                   293540.5|\n",
      "|        chill|2024-11-07|             97050.0|               1|                    97050.0|\n",
      "|     alt-rock|2024-09-25|            412917.0|               2|                   206458.5|\n",
      "|      country|2024-05-18|            298400.0|               1|                   298400.0|\n",
      "|  black-metal|2024-04-10|            821937.0|               3|                   273979.0|\n",
      "|     alt-rock|2024-06-03|            239373.0|               1|                   239373.0|\n",
      "|       comedy|2024-02-13|            451126.0|               2|                   225563.0|\n",
      "+-------------+----------+--------------------+----------------+---------------------------+\n",
      "only showing top 20 rows\n",
      "\n"
     ]
    }
   ],
   "source": [
    "avg_listening_time_per_user = total_listening_time.join(unique_listeners, [\"track_genre\", \"date\"]) \\\n",
    "                                                  .withColumn(\"avg_listening_time_per_user\", \n",
    "                                                              F.col(\"total_listening_time\") / F.col(\"unique_listeners\"))\n",
    "avg_listening_time_per_user.show()"
   ]
  },
  {
   "cell_type": "code",
   "execution_count": 66,
   "metadata": {},
   "outputs": [
    {
     "name": "stdout",
     "output_type": "stream",
     "text": [
      "+----------+--------------------+-------------+------------+----+\n",
      "|      date|          track_name|  track_genre|listen_count|rank|\n",
      "+----------+--------------------+-------------+------------+----+\n",
      "|2024-01-01|Christmas Don't B...|        j-pop|           2|   1|\n",
      "|2024-01-01|Sirens for the Co...|          idm|           1|   2|\n",
      "|2024-01-01|                 Wot|          idm|           1|   2|\n",
      "|2024-01-01| Aprender Com a Vida|       brazil|           1|   2|\n",
      "|2024-01-01| The Christmas Waltz|         jazz|           1|   2|\n",
      "|2024-01-01|Se Joga Na Minha ...|    sertanejo|           1|   2|\n",
      "|2024-01-01|           miletones|        study|           1|   2|\n",
      "|2024-01-01|           MoonShake|chicago-house|           1|   2|\n",
      "|2024-01-01|Die Fischerin vom...|        party|           1|   2|\n",
      "|2024-01-01|          Me Refazer|       gospel|           1|   2|\n",
      "|2024-01-01|Intimeeda Sukka P...|    classical|           1|   2|\n",
      "|2024-01-01|         Otra Salida|      spanish|           1|   2|\n",
      "|2024-01-01|       Chase The Sun|        happy|           1|   2|\n",
      "|2024-01-01|I'm Not The Only One|        dance|           1|   2|\n",
      "|2024-01-01|        ロマンス宣言|        j-pop|           1|   2|\n",
      "|2024-01-01|           On My Own|   show-tunes|           1|   2|\n",
      "|2024-01-01|En dikt, en bok, ...|         goth|           1|   2|\n",
      "|2024-01-01|          Хризантемы|      romance|           1|   2|\n",
      "|2024-01-01|   Como Dos Extraños|        tango|           1|   2|\n",
      "|2024-01-01|                最愛|        j-pop|           1|   2|\n",
      "+----------+--------------------+-------------+------------+----+\n",
      "only showing top 20 rows\n",
      "\n"
     ]
    }
   ],
   "source": [
    "# Step 2: Compute listen count per song per genre per day\n",
    "song_listen_count = song_users.groupBy( \n",
    "    F.to_date(\"created_at\").alias(\"date\"), \n",
    "    \"track_name\",\n",
    "    \"track_genre\"\n",
    ").agg(F.countDistinct(\"track_id\").alias(\"listen_count\"))\n",
    "\n",
    "# Step 3: Define ranking window for top songs per genre per day\n",
    "song_rank_window = Window.partitionBy(\"date\").orderBy(F.desc(\"listen_count\"))\n",
    "\n",
    "# Step 4: Rank songs and filter for the top 3 per genre per day\n",
    "top_songs_per_genre = song_listen_count.withColumn(\"rank\", F.rank().over(song_rank_window)) \\\n",
    "                                     .filter(F.col(\"rank\") <= 3)\n",
    "\n",
    "# Step 5: Show results\n",
    "top_songs_per_genre.show()\n"
   ]
  },
  {
   "cell_type": "code",
   "execution_count": 100,
   "metadata": {},
   "outputs": [
    {
     "name": "stdout",
     "output_type": "stream",
     "text": [
      "+----------+-----------------+------------------+----------+\n",
      "|      date|      track_genre|genre_listen_count|5_gen_rank|\n",
      "+----------+-----------------+------------------+----------+\n",
      "|2024-01-01|            j-pop|                 5|         1|\n",
      "|2024-01-01|            tango|                 4|         2|\n",
      "|2024-01-01|        classical|                 3|         3|\n",
      "|2024-01-01|        bluegrass|                 3|         3|\n",
      "|2024-01-01|             goth|                 3|         3|\n",
      "|2024-01-01|           gospel|                 3|         3|\n",
      "|2024-01-01|         mandopop|                 3|         3|\n",
      "|2024-01-01|progressive-house|                 3|         3|\n",
      "|2024-01-01|          new-age|                 3|         3|\n",
      "|2024-01-01|      world-music|                 3|         3|\n",
      "|2024-01-01|          spanish|                 3|         3|\n",
      "|2024-01-02|             club|                 4|         1|\n",
      "|2024-01-02|         cantopop|                 4|         1|\n",
      "|2024-01-02|      black-metal|                 4|         1|\n",
      "|2024-01-02|            disco|                 4|         1|\n",
      "|2024-01-02|        grindcore|                 3|         5|\n",
      "|2024-01-02|             jazz|                 3|         5|\n",
      "|2024-01-02|            malay|                 3|         5|\n",
      "|2024-01-02|        power-pop|                 3|         5|\n",
      "|2024-01-02|            tango|                 3|         5|\n",
      "+----------+-----------------+------------------+----------+\n",
      "only showing top 20 rows\n",
      "\n"
     ]
    }
   ],
   "source": [
    "from pyspark.sql import functions as F\n",
    "from pyspark.sql.window import Window\n",
    "\n",
    "\n",
    "# Step 1: Compute listen count per genre per day\n",
    "genre_listen_count = song_users.groupBy(\n",
    "    F.to_date(\"created_at\").alias(\"date\"),\n",
    "    \"track_genre\"\n",
    ").agg(F.count(\"track_id\").alias(\"genre_listen_count\"))\n",
    "\n",
    "# Step 2: Define a ranking window for top genres per day\n",
    "genre_rank_window = Window.partitionBy(\"date\").orderBy(F.desc(\"genre_listen_count\"))\n",
    "\n",
    "# Step 3: Apply ranking and filter for the top 5 genres per day\n",
    "top_genres_per_day = genre_listen_count.withColumn(\"5_gen_rank\", F.rank().over(genre_rank_window)) \\\n",
    "                                       .filter(F.col(\"5_gen_rank\") <= 5)\n",
    "\n",
    "top_genres_per_day.show()\n"
   ]
  },
  {
   "cell_type": "code",
   "execution_count": null,
   "metadata": {},
   "outputs": [
    {
     "name": "stdout",
     "output_type": "stream",
     "text": [
      "+-----------+----------+----+------------+--------------------+----------------+---------------------------+--------------------+------------+\n",
      "|track_genre|      date|rank|listen_count|total_listening_time|unique_listeners|avg_listening_time_per_user|          track_name|listen_count|\n",
      "+-----------+----------+----+------------+--------------------+----------------+---------------------------+--------------------+------------+\n",
      "|     brazil|2024-12-28|   1|           4|            833488.0|               4|                   208372.0|Na Rua, Na Chuva,...|           1|\n",
      "|     brazil|2024-12-28|   1|           4|            833488.0|               4|                   208372.0|             Domingo|           1|\n",
      "|     brazil|2024-12-28|   1|           4|            833488.0|               4|                   208372.0|     Porque Ele Vive|           1|\n",
      "|     brazil|2024-12-28|   1|           4|            833488.0|               4|                   208372.0|      Passos Escuros|           1|\n",
      "|      tango|2024-01-01|   2|           4|            679403.0|               4|                  169850.75|        Dos Fracasos|           1|\n",
      "|      tango|2024-01-01|   2|           4|            679403.0|               4|                  169850.75|Emancipación - In...|           1|\n",
      "|      tango|2024-01-01|   2|           4|            679403.0|               4|                  169850.75|       Tango de Ayer|           1|\n",
      "|      tango|2024-01-01|   2|           4|            679403.0|               4|                  169850.75|   Como Dos Extraños|           1|\n",
      "|     comedy|2024-08-06|   1|           3|            338359.0|               3|         112786.33333333333|The Weight Loss Plan|           1|\n",
      "|     comedy|2024-08-06|   1|           3|            338359.0|               3|         112786.33333333333|      Rip Lex Luthor|           1|\n",
      "|     comedy|2024-08-06|   1|           3|            338359.0|               3|         112786.33333333333|The Limits of Dan...|           1|\n",
      "|      opera|2024-10-17|   1|           3|            668904.0|               3|                   222968.0|Amapola - Remastered|           1|\n",
      "|      opera|2024-10-17|   1|           3|            668904.0|               3|                   222968.0|    Scarborough Fair|           1|\n",
      "|      opera|2024-10-17|   1|           3|            668904.0|               3|                   222968.0|Tosca / Act II: H...|           1|\n",
      "|        mpb|2024-08-16|   1|           4|            951624.0|               3|                   317208.0|       Hoje Caminhei|           1|\n",
      "|        mpb|2024-08-16|   1|           4|            951624.0|               3|                   317208.0|     Pra Lá de Bagdá|           1|\n",
      "|        mpb|2024-08-16|   1|           4|            951624.0|               3|                   317208.0|Pessoal Particula...|           1|\n",
      "|        mpb|2024-08-16|   1|           4|            951624.0|               3|                   317208.0|            Cariocas|           1|\n",
      "|black-metal|2024-11-13|   1|           3|            784064.0|               3|         261354.66666666666|        Flagellation|           1|\n",
      "|black-metal|2024-11-13|   1|           3|            784064.0|               3|         261354.66666666666|        Knochentorte|           1|\n",
      "+-----------+----------+----+------------+--------------------+----------------+---------------------------+--------------------+------------+\n",
      "only showing top 20 rows\n",
      "\n"
     ]
    }
   ],
   "source": [
    "final_kpi_table = listen_count.join(unique_listeners,[\"track_genre\",\"date\"]) \\\n",
    "                              .join(total_listening_time,[\"track_genre\",\"date\"]) \\\n",
    "                              .join(avg_listening_time_per_user,[\"track_genre\",\"date\"]) \\\n",
    "                              .join(top_songs_per_genre,[\"track_genre\",\"date\"]) \\\n",
    "                              .join(top_genres_per_day,[\"track_genre\",\"date\"])\n",
    "final_kpi_table.show()"
   ]
  }
 ],
 "metadata": {
  "kernelspec": {
   "display_name": "pyspark",
   "language": "python",
   "name": "python3"
  },
  "language_info": {
   "codemirror_mode": {
    "name": "ipython",
    "version": 3
   },
   "file_extension": ".py",
   "mimetype": "text/x-python",
   "name": "python",
   "nbconvert_exporter": "python",
   "pygments_lexer": "ipython3",
   "version": "3.13.0"
  }
 },
 "nbformat": 4,
 "nbformat_minor": 2
}
